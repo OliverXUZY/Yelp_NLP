{
  "nbformat": 4,
  "nbformat_minor": 0,
  "metadata": {
    "colab": {
      "name": "review_script.ipynb",
      "provenance": [],
      "collapsed_sections": [],
      "machine_shape": "hm"
    },
    "kernelspec": {
      "name": "python3",
      "display_name": "Python 3"
    },
    "accelerator": "GPU"
  },
  "cells": [
    {
      "cell_type": "code",
      "metadata": {
        "id": "hC-uJ2ZgZCzd",
        "colab_type": "code",
        "outputId": "c59976aa-79ab-450b-fb19-b2d1fa5b6fc9",
        "colab": {
          "base_uri": "https://localhost:8080/",
          "height": 35
        }
      },
      "source": [
        "import os\n",
        "os.getcwd()"
      ],
      "execution_count": 2,
      "outputs": [
        {
          "output_type": "execute_result",
          "data": {
            "text/plain": [
              "'/content'"
            ]
          },
          "metadata": {
            "tags": []
          },
          "execution_count": 2
        }
      ]
    },
    {
      "cell_type": "code",
      "metadata": {
        "id": "7RKGxCGBZTPy",
        "colab_type": "code",
        "outputId": "742f6127-01ee-447f-9551-4ad2f1064cb2",
        "colab": {
          "base_uri": "https://localhost:8080/",
          "height": 124
        }
      },
      "source": [
        "from google.colab import drive\n",
        "drive.mount('/content/drive')"
      ],
      "execution_count": 3,
      "outputs": [
        {
          "output_type": "stream",
          "text": [
            "Go to this URL in a browser: https://accounts.google.com/o/oauth2/auth?client_id=947318989803-6bn6qk8qdgf4n4g3pfee6491hc0brc4i.apps.googleusercontent.com&redirect_uri=urn%3Aietf%3Awg%3Aoauth%3A2.0%3Aoob&scope=email%20https%3A%2F%2Fwww.googleapis.com%2Fauth%2Fdocs.test%20https%3A%2F%2Fwww.googleapis.com%2Fauth%2Fdrive%20https%3A%2F%2Fwww.googleapis.com%2Fauth%2Fdrive.photos.readonly%20https%3A%2F%2Fwww.googleapis.com%2Fauth%2Fpeopleapi.readonly&response_type=code\n",
            "\n",
            "Enter your authorization code:\n",
            "··········\n",
            "Mounted at /content/drive\n"
          ],
          "name": "stdout"
        }
      ]
    },
    {
      "cell_type": "code",
      "metadata": {
        "id": "mEepcVk8Zao-",
        "colab_type": "code",
        "outputId": "7ed1052f-cfe8-4c86-e037-23fb5a7b0d71",
        "colab": {
          "base_uri": "https://localhost:8080/",
          "height": 35
        }
      },
      "source": [
        "dir = os.path.join('drive','My Drive','Colab Notebooks','STAT628_module3')\n",
        "dir"
      ],
      "execution_count": 4,
      "outputs": [
        {
          "output_type": "execute_result",
          "data": {
            "text/plain": [
              "'drive/My Drive/Colab Notebooks/STAT628_module3'"
            ]
          },
          "metadata": {
            "tags": []
          },
          "execution_count": 4
        }
      ]
    },
    {
      "cell_type": "code",
      "metadata": {
        "id": "AJi9EObaZ7vd",
        "colab_type": "code",
        "colab": {}
      },
      "source": [
        "import numpy as np\n",
        "import pandas as pd\n",
        "import json\n",
        "import matplotlib.pyplot as plt\n",
        "#import seaborn as sns"
      ],
      "execution_count": 0,
      "outputs": []
    },
    {
      "cell_type": "code",
      "metadata": {
        "id": "L6_rmGjcZkkT",
        "colab_type": "code",
        "colab": {}
      },
      "source": [
        "review = open(os.path.join(dir,'dataset','review.json'),encoding=\"utf8\")\n",
        "review = pd.DataFrame([json.loads(x) for x in review.readlines()])"
      ],
      "execution_count": 0,
      "outputs": []
    },
    {
      "cell_type": "code",
      "metadata": {
        "id": "nL-Zs4_TZlO9",
        "colab_type": "code",
        "colab": {}
      },
      "source": [
        "# 5:41 start"
      ],
      "execution_count": 0,
      "outputs": []
    },
    {
      "cell_type": "code",
      "metadata": {
        "id": "Pgp9jRXqmkN4",
        "colab_type": "code",
        "outputId": "f35cdbab-287c-428e-b3d7-a86c64df2258",
        "colab": {
          "base_uri": "https://localhost:8080/",
          "height": 509
        }
      },
      "source": [
        "review.head(n=15)"
      ],
      "execution_count": 7,
      "outputs": [
        {
          "output_type": "execute_result",
          "data": {
            "text/html": [
              "<div>\n",
              "<style scoped>\n",
              "    .dataframe tbody tr th:only-of-type {\n",
              "        vertical-align: middle;\n",
              "    }\n",
              "\n",
              "    .dataframe tbody tr th {\n",
              "        vertical-align: top;\n",
              "    }\n",
              "\n",
              "    .dataframe thead th {\n",
              "        text-align: right;\n",
              "    }\n",
              "</style>\n",
              "<table border=\"1\" class=\"dataframe\">\n",
              "  <thead>\n",
              "    <tr style=\"text-align: right;\">\n",
              "      <th></th>\n",
              "      <th>business_id</th>\n",
              "      <th>cool</th>\n",
              "      <th>date</th>\n",
              "      <th>funny</th>\n",
              "      <th>review_id</th>\n",
              "      <th>stars</th>\n",
              "      <th>text</th>\n",
              "      <th>useful</th>\n",
              "      <th>user_id</th>\n",
              "    </tr>\n",
              "  </thead>\n",
              "  <tbody>\n",
              "    <tr>\n",
              "      <th>0</th>\n",
              "      <td>ujmEBvifdJM6h6RLv4wQIg</td>\n",
              "      <td>0</td>\n",
              "      <td>2013-05-07 04:34:36</td>\n",
              "      <td>1</td>\n",
              "      <td>Q1sbwvVQXV2734tPgoKj4Q</td>\n",
              "      <td>1.0</td>\n",
              "      <td>Total bill for this horrible service? Over $8G...</td>\n",
              "      <td>6</td>\n",
              "      <td>hG7b0MtEbXx5QzbzE6C_VA</td>\n",
              "    </tr>\n",
              "    <tr>\n",
              "      <th>1</th>\n",
              "      <td>NZnhc2sEQy3RmzKTZnqtwQ</td>\n",
              "      <td>0</td>\n",
              "      <td>2017-01-14 21:30:33</td>\n",
              "      <td>0</td>\n",
              "      <td>GJXCdrto3ASJOqKeVWPi6Q</td>\n",
              "      <td>5.0</td>\n",
              "      <td>I *adore* Travis at the Hard Rock's new Kelly ...</td>\n",
              "      <td>0</td>\n",
              "      <td>yXQM5uF2jS6es16SJzNHfg</td>\n",
              "    </tr>\n",
              "    <tr>\n",
              "      <th>2</th>\n",
              "      <td>WTqjgwHlXbSFevF32_DJVw</td>\n",
              "      <td>0</td>\n",
              "      <td>2016-11-09 20:09:03</td>\n",
              "      <td>0</td>\n",
              "      <td>2TzJjDVDEuAW6MR5Vuc1ug</td>\n",
              "      <td>5.0</td>\n",
              "      <td>I have to say that this office really has it t...</td>\n",
              "      <td>3</td>\n",
              "      <td>n6-Gk65cPZL6Uz8qRm3NYw</td>\n",
              "    </tr>\n",
              "    <tr>\n",
              "      <th>3</th>\n",
              "      <td>ikCg8xy5JIg_NGPx-MSIDA</td>\n",
              "      <td>0</td>\n",
              "      <td>2018-01-09 20:56:38</td>\n",
              "      <td>0</td>\n",
              "      <td>yi0R0Ugj_xUx_Nek0-_Qig</td>\n",
              "      <td>5.0</td>\n",
              "      <td>Went in for a lunch. Steak sandwich was delici...</td>\n",
              "      <td>0</td>\n",
              "      <td>dacAIZ6fTM6mqwW5uxkskg</td>\n",
              "    </tr>\n",
              "    <tr>\n",
              "      <th>4</th>\n",
              "      <td>b1b1eb3uo-w561D0ZfCEiQ</td>\n",
              "      <td>0</td>\n",
              "      <td>2018-01-30 23:07:38</td>\n",
              "      <td>0</td>\n",
              "      <td>11a8sVPMUFtaC7_ABRkmtw</td>\n",
              "      <td>1.0</td>\n",
              "      <td>Today was my second out of three sessions I ha...</td>\n",
              "      <td>7</td>\n",
              "      <td>ssoyf2_x0EQMed6fgHeMyQ</td>\n",
              "    </tr>\n",
              "    <tr>\n",
              "      <th>5</th>\n",
              "      <td>eU_713ec6fTGNO4BegRaww</td>\n",
              "      <td>0</td>\n",
              "      <td>2013-01-20 13:25:59</td>\n",
              "      <td>0</td>\n",
              "      <td>fdiNeiN_hoCxCMy2wTRW9g</td>\n",
              "      <td>4.0</td>\n",
              "      <td>I'll be the first to admit that I was not exci...</td>\n",
              "      <td>0</td>\n",
              "      <td>w31MKYsNFMrjhWxxAb5wIw</td>\n",
              "    </tr>\n",
              "    <tr>\n",
              "      <th>6</th>\n",
              "      <td>3fw2X5bZYeW9xCz_zGhOHg</td>\n",
              "      <td>5</td>\n",
              "      <td>2016-05-07 01:21:02</td>\n",
              "      <td>4</td>\n",
              "      <td>G7XHMxG0bx9oBJNECG4IFg</td>\n",
              "      <td>3.0</td>\n",
              "      <td>Tracy dessert had a big name in Hong Kong and ...</td>\n",
              "      <td>5</td>\n",
              "      <td>jlu4CztcSxrKx56ba1a5AQ</td>\n",
              "    </tr>\n",
              "    <tr>\n",
              "      <th>7</th>\n",
              "      <td>zvO-PJCpNk4fgAVUnExYAA</td>\n",
              "      <td>1</td>\n",
              "      <td>2010-10-05 19:12:35</td>\n",
              "      <td>1</td>\n",
              "      <td>8e9HxxLjjqc9ez5ezzN7iQ</td>\n",
              "      <td>1.0</td>\n",
              "      <td>This place has gone down hill.  Clearly they h...</td>\n",
              "      <td>3</td>\n",
              "      <td>d6xvYpyzcfbF_AZ8vMB7QA</td>\n",
              "    </tr>\n",
              "    <tr>\n",
              "      <th>8</th>\n",
              "      <td>b2jN2mm9Wf3RcrZCgfo1cg</td>\n",
              "      <td>0</td>\n",
              "      <td>2015-01-18 14:04:18</td>\n",
              "      <td>0</td>\n",
              "      <td>qrffudO73zsslZbe8B9D3Q</td>\n",
              "      <td>2.0</td>\n",
              "      <td>I was really looking forward to visiting after...</td>\n",
              "      <td>1</td>\n",
              "      <td>sG_h0dIzTKWa3Q6fmb4u-g</td>\n",
              "    </tr>\n",
              "    <tr>\n",
              "      <th>9</th>\n",
              "      <td>oxwGyA17NL6c5t1Etg5WgQ</td>\n",
              "      <td>1</td>\n",
              "      <td>2012-02-29 21:52:43</td>\n",
              "      <td>0</td>\n",
              "      <td>RS_GTIT6836bCaPy637kNQ</td>\n",
              "      <td>3.0</td>\n",
              "      <td>It's a giant Best Buy with 66 registers.  I do...</td>\n",
              "      <td>1</td>\n",
              "      <td>nMeCE5-xsdleyxYuNZ_7rA</td>\n",
              "    </tr>\n",
              "    <tr>\n",
              "      <th>10</th>\n",
              "      <td>8mIrX_LrOnAqWsB5JrOojQ</td>\n",
              "      <td>0</td>\n",
              "      <td>2011-11-30 02:11:15</td>\n",
              "      <td>0</td>\n",
              "      <td>kbtscdyz6lvrtGjD1quQTg</td>\n",
              "      <td>4.0</td>\n",
              "      <td>Like walking back in time, every Saturday morn...</td>\n",
              "      <td>0</td>\n",
              "      <td>FIk4lQQu1eTe2EpzQ4xhBA</td>\n",
              "    </tr>\n",
              "    <tr>\n",
              "      <th>11</th>\n",
              "      <td>mRUVMJkUGxrByzMQ2MuOpA</td>\n",
              "      <td>0</td>\n",
              "      <td>2017-12-15 23:27:08</td>\n",
              "      <td>1</td>\n",
              "      <td>-I5umRTkhw15RqpKMl_o1Q</td>\n",
              "      <td>1.0</td>\n",
              "      <td>Walked in around 4 on a Friday afternoon, we s...</td>\n",
              "      <td>0</td>\n",
              "      <td>-mA3-1mN4JIEkqOtdbNXCQ</td>\n",
              "    </tr>\n",
              "    <tr>\n",
              "      <th>12</th>\n",
              "      <td>FxLfqxdYPA6Z85PFKaqLrg</td>\n",
              "      <td>0</td>\n",
              "      <td>2016-05-07 01:36:53</td>\n",
              "      <td>0</td>\n",
              "      <td>Z7wgXp98wYB57QdRY3HQ3w</td>\n",
              "      <td>4.0</td>\n",
              "      <td>Wow. So surprised at the one and two star revi...</td>\n",
              "      <td>0</td>\n",
              "      <td>GYNnVehQeXjty0xH7-6Fhw</td>\n",
              "    </tr>\n",
              "    <tr>\n",
              "      <th>13</th>\n",
              "      <td>LUN6swQYa4xJKaM_UEUOEw</td>\n",
              "      <td>0</td>\n",
              "      <td>2018-04-27 20:25:26</td>\n",
              "      <td>0</td>\n",
              "      <td>qlXw1JQ0UodW7qrmVgwCXw</td>\n",
              "      <td>4.0</td>\n",
              "      <td>Michael from Red Carpet VIP is amazing ! I rea...</td>\n",
              "      <td>0</td>\n",
              "      <td>bAhqAPoWaZYcyYi7bs024Q</td>\n",
              "    </tr>\n",
              "    <tr>\n",
              "      <th>14</th>\n",
              "      <td>AakkkTuGZA2KBodKi2_u8A</td>\n",
              "      <td>0</td>\n",
              "      <td>2012-07-16 00:37:14</td>\n",
              "      <td>1</td>\n",
              "      <td>JVcjMhlavKKn3UIt9p9OXA</td>\n",
              "      <td>1.0</td>\n",
              "      <td>I cannot believe how things have changed in 3 ...</td>\n",
              "      <td>1</td>\n",
              "      <td>TpyOT5E16YASd7EWjLQlrw</td>\n",
              "    </tr>\n",
              "  </tbody>\n",
              "</table>\n",
              "</div>"
            ],
            "text/plain": [
              "               business_id  cool  ... useful                 user_id\n",
              "0   ujmEBvifdJM6h6RLv4wQIg     0  ...      6  hG7b0MtEbXx5QzbzE6C_VA\n",
              "1   NZnhc2sEQy3RmzKTZnqtwQ     0  ...      0  yXQM5uF2jS6es16SJzNHfg\n",
              "2   WTqjgwHlXbSFevF32_DJVw     0  ...      3  n6-Gk65cPZL6Uz8qRm3NYw\n",
              "3   ikCg8xy5JIg_NGPx-MSIDA     0  ...      0  dacAIZ6fTM6mqwW5uxkskg\n",
              "4   b1b1eb3uo-w561D0ZfCEiQ     0  ...      7  ssoyf2_x0EQMed6fgHeMyQ\n",
              "5   eU_713ec6fTGNO4BegRaww     0  ...      0  w31MKYsNFMrjhWxxAb5wIw\n",
              "6   3fw2X5bZYeW9xCz_zGhOHg     5  ...      5  jlu4CztcSxrKx56ba1a5AQ\n",
              "7   zvO-PJCpNk4fgAVUnExYAA     1  ...      3  d6xvYpyzcfbF_AZ8vMB7QA\n",
              "8   b2jN2mm9Wf3RcrZCgfo1cg     0  ...      1  sG_h0dIzTKWa3Q6fmb4u-g\n",
              "9   oxwGyA17NL6c5t1Etg5WgQ     1  ...      1  nMeCE5-xsdleyxYuNZ_7rA\n",
              "10  8mIrX_LrOnAqWsB5JrOojQ     0  ...      0  FIk4lQQu1eTe2EpzQ4xhBA\n",
              "11  mRUVMJkUGxrByzMQ2MuOpA     0  ...      0  -mA3-1mN4JIEkqOtdbNXCQ\n",
              "12  FxLfqxdYPA6Z85PFKaqLrg     0  ...      0  GYNnVehQeXjty0xH7-6Fhw\n",
              "13  LUN6swQYa4xJKaM_UEUOEw     0  ...      0  bAhqAPoWaZYcyYi7bs024Q\n",
              "14  AakkkTuGZA2KBodKi2_u8A     0  ...      1  TpyOT5E16YASd7EWjLQlrw\n",
              "\n",
              "[15 rows x 9 columns]"
            ]
          },
          "metadata": {
            "tags": []
          },
          "execution_count": 7
        }
      ]
    },
    {
      "cell_type": "code",
      "metadata": {
        "id": "cjpjcmmTmmCM",
        "colab_type": "code",
        "outputId": "7752d40a-0cc9-4b2e-80a2-01bcf5cd5c12",
        "colab": {
          "base_uri": "https://localhost:8080/",
          "height": 35
        }
      },
      "source": [
        "review.shape"
      ],
      "execution_count": 8,
      "outputs": [
        {
          "output_type": "execute_result",
          "data": {
            "text/plain": [
              "(6685900, 9)"
            ]
          },
          "metadata": {
            "tags": []
          },
          "execution_count": 8
        }
      ]
    },
    {
      "cell_type": "code",
      "metadata": {
        "id": "CuwkQSokm8lY",
        "colab_type": "code",
        "outputId": "c52840fb-0357-4260-a66f-3437e78d0e96",
        "colab": {
          "base_uri": "https://localhost:8080/",
          "height": 55
        }
      },
      "source": [
        "review.loc[1,'text']"
      ],
      "execution_count": 9,
      "outputs": [
        {
          "output_type": "execute_result",
          "data": {
            "text/plain": [
              "\"I *adore* Travis at the Hard Rock's new Kelly Cardenas Salon!  I'm always a fan of a great blowout and no stranger to the chains that offer this service; however, Travis has taken the flawless blowout to a whole new level!  \\n\\nTravis's greets you with his perfectly green swoosh in his otherwise perfectly styled black hair and a Vegas-worthy rockstar outfit.  Next comes the most relaxing and incredible shampoo -- where you get a full head message that could cure even the very worst migraine in minutes --- and the scented shampoo room.  Travis has freakishly strong fingers (in a good way) and use the perfect amount of pressure.  That was superb!  Then starts the glorious blowout... where not one, not two, but THREE people were involved in doing the best round-brush action my hair has ever seen.  The team of stylists clearly gets along extremely well, as it's evident from the way they talk to and help one another that it's really genuine and not some corporate requirement.  It was so much fun to be there! \\n\\nNext Travis started with the flat iron.  The way he flipped his wrist to get volume all around without over-doing it and making me look like a Texas pagent girl was admirable.  It's also worth noting that he didn't fry my hair -- something that I've had happen before with less skilled stylists.  At the end of the blowout & style my hair was perfectly bouncey and looked terrific.  The only thing better?  That this awesome blowout lasted for days! \\n\\nTravis, I will see you every single time I'm out in Vegas.  You make me feel beauuuutiful!\""
            ]
          },
          "metadata": {
            "tags": []
          },
          "execution_count": 9
        }
      ]
    },
    {
      "cell_type": "code",
      "metadata": {
        "id": "knEZlDk2nKbg",
        "colab_type": "code",
        "colab": {
          "base_uri": "https://localhost:8080/",
          "height": 551
        },
        "outputId": "af5c1bad-2cc0-4cb7-d697-8c701b273b39"
      },
      "source": [
        "bus = pd.read_csv(os.path.join(dir,'dataset','business.csv'))\n",
        "bus = bus[-bus['categories'].isnull()]\n",
        "bus.head()"
      ],
      "execution_count": 10,
      "outputs": [
        {
          "output_type": "execute_result",
          "data": {
            "text/html": [
              "<div>\n",
              "<style scoped>\n",
              "    .dataframe tbody tr th:only-of-type {\n",
              "        vertical-align: middle;\n",
              "    }\n",
              "\n",
              "    .dataframe tbody tr th {\n",
              "        vertical-align: top;\n",
              "    }\n",
              "\n",
              "    .dataframe thead th {\n",
              "        text-align: right;\n",
              "    }\n",
              "</style>\n",
              "<table border=\"1\" class=\"dataframe\">\n",
              "  <thead>\n",
              "    <tr style=\"text-align: right;\">\n",
              "      <th></th>\n",
              "      <th>address</th>\n",
              "      <th>attributes</th>\n",
              "      <th>business_id</th>\n",
              "      <th>categories</th>\n",
              "      <th>city</th>\n",
              "      <th>hours</th>\n",
              "      <th>is_open</th>\n",
              "      <th>latitude</th>\n",
              "      <th>longitude</th>\n",
              "      <th>name</th>\n",
              "      <th>postal_code</th>\n",
              "      <th>review_count</th>\n",
              "      <th>stars</th>\n",
              "      <th>state</th>\n",
              "    </tr>\n",
              "  </thead>\n",
              "  <tbody>\n",
              "    <tr>\n",
              "      <th>0</th>\n",
              "      <td>2818 E Camino Acequia Drive</td>\n",
              "      <td>{'GoodForKids': 'False'}</td>\n",
              "      <td>1SWheh84yJXfytovILXOAQ</td>\n",
              "      <td>Golf, Active Life</td>\n",
              "      <td>Phoenix</td>\n",
              "      <td>NaN</td>\n",
              "      <td>0</td>\n",
              "      <td>33.522143</td>\n",
              "      <td>-112.018481</td>\n",
              "      <td>Arizona Biltmore Golf Club</td>\n",
              "      <td>85016</td>\n",
              "      <td>5</td>\n",
              "      <td>3.0</td>\n",
              "      <td>AZ</td>\n",
              "    </tr>\n",
              "    <tr>\n",
              "      <th>1</th>\n",
              "      <td>30 Eglinton Avenue W</td>\n",
              "      <td>{'RestaurantsReservations': 'True', 'GoodForMe...</td>\n",
              "      <td>QXAEGFB4oINsVuTFxEYKFQ</td>\n",
              "      <td>Specialty Food, Restaurants, Dim Sum, Imported...</td>\n",
              "      <td>Mississauga</td>\n",
              "      <td>{'Monday': '9:0-0:0', 'Tuesday': '9:0-0:0', 'W...</td>\n",
              "      <td>1</td>\n",
              "      <td>43.605499</td>\n",
              "      <td>-79.652289</td>\n",
              "      <td>Emerald Chinese Restaurant</td>\n",
              "      <td>L5R 3E7</td>\n",
              "      <td>128</td>\n",
              "      <td>2.5</td>\n",
              "      <td>ON</td>\n",
              "    </tr>\n",
              "    <tr>\n",
              "      <th>2</th>\n",
              "      <td>10110 Johnston Rd, Ste 15</td>\n",
              "      <td>{'GoodForKids': 'True', 'NoiseLevel': \"u'avera...</td>\n",
              "      <td>gnKjwL_1w79qoiV3IC_xQQ</td>\n",
              "      <td>Sushi Bars, Restaurants, Japanese</td>\n",
              "      <td>Charlotte</td>\n",
              "      <td>{'Monday': '17:30-21:30', 'Wednesday': '17:30-...</td>\n",
              "      <td>1</td>\n",
              "      <td>35.092564</td>\n",
              "      <td>-80.859132</td>\n",
              "      <td>Musashi Japanese Restaurant</td>\n",
              "      <td>28210</td>\n",
              "      <td>170</td>\n",
              "      <td>4.0</td>\n",
              "      <td>NC</td>\n",
              "    </tr>\n",
              "    <tr>\n",
              "      <th>3</th>\n",
              "      <td>15655 W Roosevelt St, Ste 237</td>\n",
              "      <td>NaN</td>\n",
              "      <td>xvX2CttrVhyG2z1dFg_0xw</td>\n",
              "      <td>Insurance, Financial Services</td>\n",
              "      <td>Goodyear</td>\n",
              "      <td>{'Monday': '8:0-17:0', 'Tuesday': '8:0-17:0', ...</td>\n",
              "      <td>1</td>\n",
              "      <td>33.455613</td>\n",
              "      <td>-112.395596</td>\n",
              "      <td>Farmers Insurance - Paul Lorenz</td>\n",
              "      <td>85338</td>\n",
              "      <td>3</td>\n",
              "      <td>5.0</td>\n",
              "      <td>AZ</td>\n",
              "    </tr>\n",
              "    <tr>\n",
              "      <th>4</th>\n",
              "      <td>4209 Stuart Andrew Blvd, Ste F</td>\n",
              "      <td>{'BusinessAcceptsBitcoin': 'False', 'ByAppoint...</td>\n",
              "      <td>HhyxOkGAM07SRYtlQ4wMFQ</td>\n",
              "      <td>Plumbing, Shopping, Local Services, Home Servi...</td>\n",
              "      <td>Charlotte</td>\n",
              "      <td>{'Monday': '7:0-23:0', 'Tuesday': '7:0-23:0', ...</td>\n",
              "      <td>1</td>\n",
              "      <td>35.190012</td>\n",
              "      <td>-80.887223</td>\n",
              "      <td>Queen City Plumbing</td>\n",
              "      <td>28217</td>\n",
              "      <td>4</td>\n",
              "      <td>4.0</td>\n",
              "      <td>NC</td>\n",
              "    </tr>\n",
              "  </tbody>\n",
              "</table>\n",
              "</div>"
            ],
            "text/plain": [
              "                          address  ... state\n",
              "0     2818 E Camino Acequia Drive  ...    AZ\n",
              "1            30 Eglinton Avenue W  ...    ON\n",
              "2       10110 Johnston Rd, Ste 15  ...    NC\n",
              "3   15655 W Roosevelt St, Ste 237  ...    AZ\n",
              "4  4209 Stuart Andrew Blvd, Ste F  ...    NC\n",
              "\n",
              "[5 rows x 14 columns]"
            ]
          },
          "metadata": {
            "tags": []
          },
          "execution_count": 10
        }
      ]
    },
    {
      "cell_type": "code",
      "metadata": {
        "id": "8vsMBsa3Iqhu",
        "colab_type": "code",
        "colab": {
          "base_uri": "https://localhost:8080/",
          "height": 35
        },
        "outputId": "a6e76c2b-9cc9-4585-f14b-60952fa0073a"
      },
      "source": [
        "filt = filter(lambda x: True if 'barbeque' in bus.loc[x,'categories'].lower() else False, bus.index.values)\n",
        "bbq = bus.loc[list(filt),:]\n",
        "bbq.shape"
      ],
      "execution_count": 11,
      "outputs": [
        {
          "output_type": "execute_result",
          "data": {
            "text/plain": [
              "(1814, 14)"
            ]
          },
          "metadata": {
            "tags": []
          },
          "execution_count": 11
        }
      ]
    },
    {
      "cell_type": "code",
      "metadata": {
        "id": "7Sm18kjxIrvK",
        "colab_type": "code",
        "colab": {
          "base_uri": "https://localhost:8080/",
          "height": 35
        },
        "outputId": "e0b64bff-d8ff-458a-9e30-361d0ce4dc71"
      },
      "source": [
        "res = pd.merge(bbq,review,how = 'inner',on = 'business_id')\n",
        "res.shape"
      ],
      "execution_count": 12,
      "outputs": [
        {
          "output_type": "execute_result",
          "data": {
            "text/plain": [
              "(173000, 22)"
            ]
          },
          "metadata": {
            "tags": []
          },
          "execution_count": 12
        }
      ]
    },
    {
      "cell_type": "code",
      "metadata": {
        "id": "iE95UMacIsFN",
        "colab_type": "code",
        "colab": {
          "base_uri": "https://localhost:8080/",
          "height": 621
        },
        "outputId": "5b4a3412-d902-48f8-dc6f-ee6445d897b6"
      },
      "source": [
        "res.head()"
      ],
      "execution_count": 13,
      "outputs": [
        {
          "output_type": "execute_result",
          "data": {
            "text/html": [
              "<div>\n",
              "<style scoped>\n",
              "    .dataframe tbody tr th:only-of-type {\n",
              "        vertical-align: middle;\n",
              "    }\n",
              "\n",
              "    .dataframe tbody tr th {\n",
              "        vertical-align: top;\n",
              "    }\n",
              "\n",
              "    .dataframe thead th {\n",
              "        text-align: right;\n",
              "    }\n",
              "</style>\n",
              "<table border=\"1\" class=\"dataframe\">\n",
              "  <thead>\n",
              "    <tr style=\"text-align: right;\">\n",
              "      <th></th>\n",
              "      <th>address</th>\n",
              "      <th>attributes</th>\n",
              "      <th>business_id</th>\n",
              "      <th>categories</th>\n",
              "      <th>city</th>\n",
              "      <th>hours</th>\n",
              "      <th>is_open</th>\n",
              "      <th>latitude</th>\n",
              "      <th>longitude</th>\n",
              "      <th>name</th>\n",
              "      <th>postal_code</th>\n",
              "      <th>review_count</th>\n",
              "      <th>stars_x</th>\n",
              "      <th>state</th>\n",
              "      <th>cool</th>\n",
              "      <th>date</th>\n",
              "      <th>funny</th>\n",
              "      <th>review_id</th>\n",
              "      <th>stars_y</th>\n",
              "      <th>text</th>\n",
              "      <th>useful</th>\n",
              "      <th>user_id</th>\n",
              "    </tr>\n",
              "  </thead>\n",
              "  <tbody>\n",
              "    <tr>\n",
              "      <th>0</th>\n",
              "      <td>12700 Shaw Ave</td>\n",
              "      <td>{'GoodForKids': 'False', 'RestaurantsReservati...</td>\n",
              "      <td>OwXMxqxIy4YoprAjnoUoiA</td>\n",
              "      <td>Barbeque, Restaurants</td>\n",
              "      <td>Cleveland</td>\n",
              "      <td>NaN</td>\n",
              "      <td>1</td>\n",
              "      <td>41.540890</td>\n",
              "      <td>-81.595327</td>\n",
              "      <td>B &amp; M Bar-B-Que Shaw</td>\n",
              "      <td>44108</td>\n",
              "      <td>4</td>\n",
              "      <td>3.5</td>\n",
              "      <td>OH</td>\n",
              "      <td>0</td>\n",
              "      <td>2011-10-09 06:52:29</td>\n",
              "      <td>0</td>\n",
              "      <td>pRfdZnKT73hNV-cUWYGVAA</td>\n",
              "      <td>4.0</td>\n",
              "      <td>OMFG!!!!\\nbeen a fan my whole life... I moved ...</td>\n",
              "      <td>0</td>\n",
              "      <td>3nsli0VlIelfiLVKBn5_Gw</td>\n",
              "    </tr>\n",
              "    <tr>\n",
              "      <th>1</th>\n",
              "      <td>12700 Shaw Ave</td>\n",
              "      <td>{'GoodForKids': 'False', 'RestaurantsReservati...</td>\n",
              "      <td>OwXMxqxIy4YoprAjnoUoiA</td>\n",
              "      <td>Barbeque, Restaurants</td>\n",
              "      <td>Cleveland</td>\n",
              "      <td>NaN</td>\n",
              "      <td>1</td>\n",
              "      <td>41.540890</td>\n",
              "      <td>-81.595327</td>\n",
              "      <td>B &amp; M Bar-B-Que Shaw</td>\n",
              "      <td>44108</td>\n",
              "      <td>4</td>\n",
              "      <td>3.5</td>\n",
              "      <td>OH</td>\n",
              "      <td>0</td>\n",
              "      <td>2008-09-10 18:22:17</td>\n",
              "      <td>0</td>\n",
              "      <td>F0h8Uc1G87vbUl1rgKLrSg</td>\n",
              "      <td>3.0</td>\n",
              "      <td>I like a sense of adventure so I went to the p...</td>\n",
              "      <td>0</td>\n",
              "      <td>r1jWEEScNKa-Xiw1Lad-rA</td>\n",
              "    </tr>\n",
              "    <tr>\n",
              "      <th>2</th>\n",
              "      <td>12700 Shaw Ave</td>\n",
              "      <td>{'GoodForKids': 'False', 'RestaurantsReservati...</td>\n",
              "      <td>OwXMxqxIy4YoprAjnoUoiA</td>\n",
              "      <td>Barbeque, Restaurants</td>\n",
              "      <td>Cleveland</td>\n",
              "      <td>NaN</td>\n",
              "      <td>1</td>\n",
              "      <td>41.540890</td>\n",
              "      <td>-81.595327</td>\n",
              "      <td>B &amp; M Bar-B-Que Shaw</td>\n",
              "      <td>44108</td>\n",
              "      <td>4</td>\n",
              "      <td>3.5</td>\n",
              "      <td>OH</td>\n",
              "      <td>0</td>\n",
              "      <td>2014-11-04 19:16:40</td>\n",
              "      <td>0</td>\n",
              "      <td>JEe8kchmQ3WiC1KRZhi1mg</td>\n",
              "      <td>4.0</td>\n",
              "      <td>Night or day the men are the best from, the ta...</td>\n",
              "      <td>0</td>\n",
              "      <td>aKtwHb1VPg0P21N2Rv0rSQ</td>\n",
              "    </tr>\n",
              "    <tr>\n",
              "      <th>3</th>\n",
              "      <td>12700 Shaw Ave</td>\n",
              "      <td>{'GoodForKids': 'False', 'RestaurantsReservati...</td>\n",
              "      <td>OwXMxqxIy4YoprAjnoUoiA</td>\n",
              "      <td>Barbeque, Restaurants</td>\n",
              "      <td>Cleveland</td>\n",
              "      <td>NaN</td>\n",
              "      <td>1</td>\n",
              "      <td>41.540890</td>\n",
              "      <td>-81.595327</td>\n",
              "      <td>B &amp; M Bar-B-Que Shaw</td>\n",
              "      <td>44108</td>\n",
              "      <td>4</td>\n",
              "      <td>3.5</td>\n",
              "      <td>OH</td>\n",
              "      <td>0</td>\n",
              "      <td>2015-05-25 08:02:03</td>\n",
              "      <td>0</td>\n",
              "      <td>EYUregGwl02AMnlA2G2dyQ</td>\n",
              "      <td>3.0</td>\n",
              "      <td>Always have loved this spot e.105 location suc...</td>\n",
              "      <td>0</td>\n",
              "      <td>nIGU_03KN7eREzsPR5sbDA</td>\n",
              "    </tr>\n",
              "    <tr>\n",
              "      <th>4</th>\n",
              "      <td>25800 Central Pwky</td>\n",
              "      <td>{'RestaurantsAttire': \"u'casual'\", 'Restaurant...</td>\n",
              "      <td>vwntGW400t5WG0ubjuaz5g</td>\n",
              "      <td>Barbeque, Restaurants</td>\n",
              "      <td>Beachwood</td>\n",
              "      <td>NaN</td>\n",
              "      <td>0</td>\n",
              "      <td>41.467589</td>\n",
              "      <td>-81.493263</td>\n",
              "      <td>The Pit</td>\n",
              "      <td>44122</td>\n",
              "      <td>5</td>\n",
              "      <td>2.0</td>\n",
              "      <td>OH</td>\n",
              "      <td>0</td>\n",
              "      <td>2011-03-25 15:28:04</td>\n",
              "      <td>0</td>\n",
              "      <td>k9zl5fXsO-t6Ycc92pFpAQ</td>\n",
              "      <td>4.0</td>\n",
              "      <td>After reading the reviews here, I was skeptica...</td>\n",
              "      <td>0</td>\n",
              "      <td>GDN08OPKo3rqysSldO5Mng</td>\n",
              "    </tr>\n",
              "  </tbody>\n",
              "</table>\n",
              "</div>"
            ],
            "text/plain": [
              "              address  ...                 user_id\n",
              "0      12700 Shaw Ave  ...  3nsli0VlIelfiLVKBn5_Gw\n",
              "1      12700 Shaw Ave  ...  r1jWEEScNKa-Xiw1Lad-rA\n",
              "2      12700 Shaw Ave  ...  aKtwHb1VPg0P21N2Rv0rSQ\n",
              "3      12700 Shaw Ave  ...  nIGU_03KN7eREzsPR5sbDA\n",
              "4  25800 Central Pwky  ...  GDN08OPKo3rqysSldO5Mng\n",
              "\n",
              "[5 rows x 22 columns]"
            ]
          },
          "metadata": {
            "tags": []
          },
          "execution_count": 13
        }
      ]
    },
    {
      "cell_type": "code",
      "metadata": {
        "id": "Lxw-osqnIsJD",
        "colab_type": "code",
        "colab": {
          "base_uri": "https://localhost:8080/",
          "height": 416
        },
        "outputId": "1b0f2e90-364d-4d70-adb5-297bc9cbc47a"
      },
      "source": [
        "res.isnull().sum(0)"
      ],
      "execution_count": 14,
      "outputs": [
        {
          "output_type": "execute_result",
          "data": {
            "text/plain": [
              "address          586\n",
              "attributes       594\n",
              "business_id        0\n",
              "categories         0\n",
              "city               0\n",
              "hours           5251\n",
              "is_open            0\n",
              "latitude           0\n",
              "longitude          0\n",
              "name               0\n",
              "postal_code       12\n",
              "review_count       0\n",
              "stars_x            0\n",
              "state              0\n",
              "cool               0\n",
              "date               0\n",
              "funny              0\n",
              "review_id          0\n",
              "stars_y            0\n",
              "text               0\n",
              "useful             0\n",
              "user_id            0\n",
              "dtype: int64"
            ]
          },
          "metadata": {
            "tags": []
          },
          "execution_count": 14
        }
      ]
    },
    {
      "cell_type": "code",
      "metadata": {
        "id": "4U11zygSIsM7",
        "colab_type": "code",
        "colab": {}
      },
      "source": [
        ""
      ],
      "execution_count": 0,
      "outputs": []
    },
    {
      "cell_type": "code",
      "metadata": {
        "id": "4rKQxd1xIsB0",
        "colab_type": "code",
        "colab": {}
      },
      "source": [
        ""
      ],
      "execution_count": 0,
      "outputs": []
    },
    {
      "cell_type": "code",
      "metadata": {
        "id": "VEnuVrZtIr-R",
        "colab_type": "code",
        "colab": {}
      },
      "source": [
        ""
      ],
      "execution_count": 0,
      "outputs": []
    }
  ]
}