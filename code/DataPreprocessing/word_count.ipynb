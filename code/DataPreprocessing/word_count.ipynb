{
 "cells": [
  {
   "cell_type": "code",
   "execution_count": 1,
   "metadata": {},
   "outputs": [],
   "source": [
    "import numpy as np\n",
    "import pandas as pd\n",
    "import spacy\n",
    "import re  ## regexp"
   ]
  },
  {
   "cell_type": "code",
   "execution_count": 162,
   "metadata": {},
   "outputs": [
    {
     "data": {
      "text/plain": [
       "(123397, 22)"
      ]
     },
     "execution_count": 162,
     "metadata": {},
     "output_type": "execute_result"
    }
   ],
   "source": [
    "merge = pd.read_csv('csv/merged.csv')\n",
    "merge.shape"
   ]
  },
  {
   "cell_type": "code",
   "execution_count": 3,
   "metadata": {},
   "outputs": [],
   "source": [
    "merge['text'] = merge.apply(lambda x: x['text'].lower(), axis=1)"
   ]
  },
  {
   "cell_type": "code",
   "execution_count": 4,
   "metadata": {},
   "outputs": [],
   "source": [
    "def reg(x):\n",
    "    sub = re.sub(\"ice cream\",\"icecream\",x)  ## addible\n",
    "    return sub"
   ]
  },
  {
   "cell_type": "code",
   "execution_count": 5,
   "metadata": {},
   "outputs": [],
   "source": [
    "merge['text'] = merge['text'].apply(reg)"
   ]
  },
  {
   "cell_type": "code",
   "execution_count": 6,
   "metadata": {},
   "outputs": [
    {
     "data": {
      "text/html": [
       "<div>\n",
       "<style scoped>\n",
       "    .dataframe tbody tr th:only-of-type {\n",
       "        vertical-align: middle;\n",
       "    }\n",
       "\n",
       "    .dataframe tbody tr th {\n",
       "        vertical-align: top;\n",
       "    }\n",
       "\n",
       "    .dataframe thead th {\n",
       "        text-align: right;\n",
       "    }\n",
       "</style>\n",
       "<table border=\"1\" class=\"dataframe\">\n",
       "  <thead>\n",
       "    <tr style=\"text-align: right;\">\n",
       "      <th></th>\n",
       "      <th>Unnamed: 0</th>\n",
       "      <th>address</th>\n",
       "      <th>attributes</th>\n",
       "      <th>business_id</th>\n",
       "      <th>categories</th>\n",
       "      <th>city</th>\n",
       "      <th>hours</th>\n",
       "      <th>is_open</th>\n",
       "      <th>latitude</th>\n",
       "      <th>longitude</th>\n",
       "      <th>...</th>\n",
       "      <th>review_count</th>\n",
       "      <th>state</th>\n",
       "      <th>review_id</th>\n",
       "      <th>user_id</th>\n",
       "      <th>stars</th>\n",
       "      <th>useful</th>\n",
       "      <th>funny</th>\n",
       "      <th>cool</th>\n",
       "      <th>text</th>\n",
       "      <th>date</th>\n",
       "    </tr>\n",
       "  </thead>\n",
       "  <tbody>\n",
       "    <tr>\n",
       "      <th>0</th>\n",
       "      <td>0</td>\n",
       "      <td>9020 B Albemarle Rd</td>\n",
       "      <td>{'BusinessAcceptsCreditCards': 'True', 'Restau...</td>\n",
       "      <td>irft4YkdNsww4DNf_Aftew</td>\n",
       "      <td>Juice Bars &amp; Smoothies, Food, Ice Cream &amp; Froz...</td>\n",
       "      <td>Charlotte</td>\n",
       "      <td>{'Monday': '11:30-20:30', 'Tuesday': '11:30-20...</td>\n",
       "      <td>0</td>\n",
       "      <td>35.21051</td>\n",
       "      <td>-80.690262</td>\n",
       "      <td>...</td>\n",
       "      <td>6</td>\n",
       "      <td>NC</td>\n",
       "      <td>zwHQZoAqsEtJ9IlQjS_hIQ</td>\n",
       "      <td>1WSTFGDksl3bh0TBW1AHCw</td>\n",
       "      <td>3.0</td>\n",
       "      <td>0</td>\n",
       "      <td>0</td>\n",
       "      <td>0</td>\n",
       "      <td>every time i have went their there was hair on...</td>\n",
       "      <td>2017-08-17 05:35:35</td>\n",
       "    </tr>\n",
       "    <tr>\n",
       "      <th>1</th>\n",
       "      <td>1</td>\n",
       "      <td>9020 B Albemarle Rd</td>\n",
       "      <td>{'BusinessAcceptsCreditCards': 'True', 'Restau...</td>\n",
       "      <td>irft4YkdNsww4DNf_Aftew</td>\n",
       "      <td>Juice Bars &amp; Smoothies, Food, Ice Cream &amp; Froz...</td>\n",
       "      <td>Charlotte</td>\n",
       "      <td>{'Monday': '11:30-20:30', 'Tuesday': '11:30-20...</td>\n",
       "      <td>0</td>\n",
       "      <td>35.21051</td>\n",
       "      <td>-80.690262</td>\n",
       "      <td>...</td>\n",
       "      <td>6</td>\n",
       "      <td>NC</td>\n",
       "      <td>Ktv2KlhExTOIkriWl6M8_Q</td>\n",
       "      <td>S88QtT4esAcmYGD0Icx4hw</td>\n",
       "      <td>5.0</td>\n",
       "      <td>1</td>\n",
       "      <td>0</td>\n",
       "      <td>0</td>\n",
       "      <td>pretty good froyo place with all the toppings ...</td>\n",
       "      <td>2016-09-30 23:29:28</td>\n",
       "    </tr>\n",
       "  </tbody>\n",
       "</table>\n",
       "<p>2 rows × 22 columns</p>\n",
       "</div>"
      ],
      "text/plain": [
       "   Unnamed: 0              address  \\\n",
       "0           0  9020 B Albemarle Rd   \n",
       "1           1  9020 B Albemarle Rd   \n",
       "\n",
       "                                          attributes             business_id  \\\n",
       "0  {'BusinessAcceptsCreditCards': 'True', 'Restau...  irft4YkdNsww4DNf_Aftew   \n",
       "1  {'BusinessAcceptsCreditCards': 'True', 'Restau...  irft4YkdNsww4DNf_Aftew   \n",
       "\n",
       "                                          categories       city  \\\n",
       "0  Juice Bars & Smoothies, Food, Ice Cream & Froz...  Charlotte   \n",
       "1  Juice Bars & Smoothies, Food, Ice Cream & Froz...  Charlotte   \n",
       "\n",
       "                                               hours  is_open  latitude  \\\n",
       "0  {'Monday': '11:30-20:30', 'Tuesday': '11:30-20...        0  35.21051   \n",
       "1  {'Monday': '11:30-20:30', 'Tuesday': '11:30-20...        0  35.21051   \n",
       "\n",
       "   longitude  ... review_count state               review_id  \\\n",
       "0 -80.690262  ...            6    NC  zwHQZoAqsEtJ9IlQjS_hIQ   \n",
       "1 -80.690262  ...            6    NC  Ktv2KlhExTOIkriWl6M8_Q   \n",
       "\n",
       "                  user_id stars useful  funny  cool  \\\n",
       "0  1WSTFGDksl3bh0TBW1AHCw   3.0      0      0     0   \n",
       "1  S88QtT4esAcmYGD0Icx4hw   5.0      1      0     0   \n",
       "\n",
       "                                                text                 date  \n",
       "0  every time i have went their there was hair on...  2017-08-17 05:35:35  \n",
       "1  pretty good froyo place with all the toppings ...  2016-09-30 23:29:28  \n",
       "\n",
       "[2 rows x 22 columns]"
      ]
     },
     "execution_count": 6,
     "metadata": {},
     "output_type": "execute_result"
    }
   ],
   "source": [
    "merge.head(2)"
   ]
  },
  {
   "cell_type": "code",
   "execution_count": 7,
   "metadata": {},
   "outputs": [
    {
     "data": {
      "text/plain": [
       "\"every time i have went their there was hair on my icecream. there is always broken glass on the ground by the door.t's not the best place to eat but if you want icecream be my guest.\""
      ]
     },
     "execution_count": 7,
     "metadata": {},
     "output_type": "execute_result"
    }
   ],
   "source": [
    "merge['text'][0]"
   ]
  },
  {
   "cell_type": "code",
   "execution_count": 8,
   "metadata": {},
   "outputs": [],
   "source": [
    "# import nltk\n",
    "# #nltk.download('stopwords')\n",
    "# from nltk.corpus import stopwords"
   ]
  },
  {
   "cell_type": "code",
   "execution_count": 9,
   "metadata": {},
   "outputs": [],
   "source": [
    "#print(set(stopwords.words('english')))\n",
    "nlp = spacy.load(\"en\")\n",
    "nlp.Defaults.stop_words |= {\".\",\"'\",\"[\",\"]\",\"(\",\")\"}"
   ]
  },
  {
   "cell_type": "code",
   "execution_count": 10,
   "metadata": {},
   "outputs": [
    {
     "name": "stdout",
     "output_type": "stream",
     "text": [
      "{'show', 'once', 'until', 'became', 'himself', 'while', \"'d\", 'beforehand', 'mostly', 'everything', 'much', 'twelve', 'former', 'rather', 'by', 'everywhere', 'hundred', 'their', 'him', 'whoever', 'see', 'sixty', 'such', 'herein', 'more', 'enough', 'move', 'that', 'empty', 'part', 'front', 'to', 'four', 'among', 'what', 'eight', 'full', 'yourselves', 'below', 'bottom', 'why', 'anything', 'because', 'latter', '’m', 'however', 'which', '’re', 'quite', 'seemed', 'last', 'same', 'done', 'others', 'he', 'another', 'keep', \"'s\", 'own', 'next', 'thru', 'and', 'least', 'really', 'six', 'these', 'via', 'we', 'whom', 'whether', 'make', '‘ve', 'each', 'becomes', 'ourselves', 'they', 'down', 'whereas', '’s', 'always', 'namely', 'hereafter', 'thereupon', 'through', 'although', 'amongst', 'hence', 'further', 'whenever', 'also', 'of', 'third', 'yet', 'his', 'the', 'meanwhile', 'into', 'per', 'three', 'did', 'were', 'most', 'be', 'name', 'could', 'becoming', 'perhaps', 'somewhere', 'nothing', 'toward', ']', 'anyway', 'or', '’d', '‘m', 'anywhere', 'every', 'now', 'say', 'never', 'noone', '‘ll', 'fifty', 'being', \"n't\", 're', 'over', 'some', 'call', 'first', 'besides', ')', 'above', 'thereafter', 'must', 'it', 'been', 'at', 'whereby', 'one', 'in', 'top', 'you', 'no', 'do', 'nowhere', 'though', 'only', 'doing', 'whatever', 'towards', 'afterwards', 'indeed', 'upon', 'whereupon', '‘d', 'those', 'along', 'does', 'behind', 'our', 'she', 'about', 'nine', 'made', 'has', 'myself', 'there', 'seem', 'across', 'for', 'therein', 'very', 'put', 'wherever', 'but', 'give', '’ve', 'still', 'many', '.', 'ours', 'serious', 'together', 'themselves', 'can', 'whose', 'everyone', \"'ve\", 'n’t', 'here', 'during', 'other', 'had', 'several', 'cannot', 'whole', 'else', 'us', \"'re\", 'seems', 'have', '‘s', 'within', 'go', 'with', 'none', 'using', 'against', 'seeming', 'who', 'few', 'on', 'even', 'whereafter', 'less', '‘re', 'ca', 'from', 'her', 'get', 'i', 'regarding', 'any', 'latterly', 'twenty', 'might', 'someone', 'almost', 'both', '’ll', 'thus', 'may', 'either', 'should', 'too', 'as', 'hereby', 'somehow', \"'ll\", 'not', 'between', 'out', 'mine', 'them', 'thence', 'am', 'back', 'nor', 'ten', 'moreover', 'how', 'well', 'off', 'various', 'so', 'anyhow', 'throughout', 'since', '(', 'a', 'around', 'neither', 'unless', 'when', \"'\", 'except', 'become', 'before', 'amount', 'would', 'forty', 'all', 'side', 'used', 'due', 'is', 'therefore', 'already', 'two', 'where', 'yourself', 'onto', 'beyond', 'itself', 'my', 'nobody', 'up', 'under', 'anyone', 'sometimes', 'alone', '[', 'formerly', 'elsewhere', 'whence', 'wherein', 'will', 'take', 'whither', 'eleven', \"'m\", 'me', 'are', 'again', 'beside', 'fifteen', 'something', 'your', 'hers', 'if', 'after', 'herself', 'just', 'an', 'otherwise', 'please', 'five', 'nevertheless', 'ever', 'than', 'this', 'often', 'then', 'thereby', 'without', 'yours', 'n‘t', 'hereupon', 'sometime', 'its', 'was'}\n"
     ]
    }
   ],
   "source": [
    "print(nlp.Defaults.stop_words)"
   ]
  },
  {
   "cell_type": "code",
   "execution_count": 11,
   "metadata": {},
   "outputs": [],
   "source": [
    "def stop(sentence):\n",
    "    #sub = re.sub(\"ice cream\",\"icecream\",x['text'])  ## addible\n",
    "    res = list(filter(lambda x: False if x.is_stop else True, nlp(sentence)))\n",
    "    return res"
   ]
  },
  {
   "cell_type": "code",
   "execution_count": 12,
   "metadata": {},
   "outputs": [
    {
     "data": {
      "text/html": [
       "<div>\n",
       "<style scoped>\n",
       "    .dataframe tbody tr th:only-of-type {\n",
       "        vertical-align: middle;\n",
       "    }\n",
       "\n",
       "    .dataframe tbody tr th {\n",
       "        vertical-align: top;\n",
       "    }\n",
       "\n",
       "    .dataframe thead th {\n",
       "        text-align: right;\n",
       "    }\n",
       "</style>\n",
       "<table border=\"1\" class=\"dataframe\">\n",
       "  <thead>\n",
       "    <tr style=\"text-align: right;\">\n",
       "      <th></th>\n",
       "      <th>Unnamed: 0</th>\n",
       "      <th>address</th>\n",
       "      <th>attributes</th>\n",
       "      <th>business_id</th>\n",
       "      <th>categories</th>\n",
       "      <th>city</th>\n",
       "      <th>hours</th>\n",
       "      <th>is_open</th>\n",
       "      <th>latitude</th>\n",
       "      <th>longitude</th>\n",
       "      <th>...</th>\n",
       "      <th>review_count</th>\n",
       "      <th>state</th>\n",
       "      <th>review_id</th>\n",
       "      <th>user_id</th>\n",
       "      <th>stars</th>\n",
       "      <th>useful</th>\n",
       "      <th>funny</th>\n",
       "      <th>cool</th>\n",
       "      <th>text</th>\n",
       "      <th>date</th>\n",
       "    </tr>\n",
       "  </thead>\n",
       "  <tbody>\n",
       "    <tr>\n",
       "      <th>0</th>\n",
       "      <td>0</td>\n",
       "      <td>9020 B Albemarle Rd</td>\n",
       "      <td>{'BusinessAcceptsCreditCards': 'True', 'Restau...</td>\n",
       "      <td>irft4YkdNsww4DNf_Aftew</td>\n",
       "      <td>Juice Bars &amp; Smoothies, Food, Ice Cream &amp; Froz...</td>\n",
       "      <td>Charlotte</td>\n",
       "      <td>{'Monday': '11:30-20:30', 'Tuesday': '11:30-20...</td>\n",
       "      <td>0</td>\n",
       "      <td>35.21051</td>\n",
       "      <td>-80.690262</td>\n",
       "      <td>...</td>\n",
       "      <td>6</td>\n",
       "      <td>NC</td>\n",
       "      <td>zwHQZoAqsEtJ9IlQjS_hIQ</td>\n",
       "      <td>1WSTFGDksl3bh0TBW1AHCw</td>\n",
       "      <td>3.0</td>\n",
       "      <td>0</td>\n",
       "      <td>0</td>\n",
       "      <td>0</td>\n",
       "      <td>every time i have went their there was hair on...</td>\n",
       "      <td>2017-08-17 05:35:35</td>\n",
       "    </tr>\n",
       "    <tr>\n",
       "      <th>1</th>\n",
       "      <td>1</td>\n",
       "      <td>9020 B Albemarle Rd</td>\n",
       "      <td>{'BusinessAcceptsCreditCards': 'True', 'Restau...</td>\n",
       "      <td>irft4YkdNsww4DNf_Aftew</td>\n",
       "      <td>Juice Bars &amp; Smoothies, Food, Ice Cream &amp; Froz...</td>\n",
       "      <td>Charlotte</td>\n",
       "      <td>{'Monday': '11:30-20:30', 'Tuesday': '11:30-20...</td>\n",
       "      <td>0</td>\n",
       "      <td>35.21051</td>\n",
       "      <td>-80.690262</td>\n",
       "      <td>...</td>\n",
       "      <td>6</td>\n",
       "      <td>NC</td>\n",
       "      <td>Ktv2KlhExTOIkriWl6M8_Q</td>\n",
       "      <td>S88QtT4esAcmYGD0Icx4hw</td>\n",
       "      <td>5.0</td>\n",
       "      <td>1</td>\n",
       "      <td>0</td>\n",
       "      <td>0</td>\n",
       "      <td>pretty good froyo place with all the toppings ...</td>\n",
       "      <td>2016-09-30 23:29:28</td>\n",
       "    </tr>\n",
       "  </tbody>\n",
       "</table>\n",
       "<p>2 rows × 22 columns</p>\n",
       "</div>"
      ],
      "text/plain": [
       "   Unnamed: 0              address  \\\n",
       "0           0  9020 B Albemarle Rd   \n",
       "1           1  9020 B Albemarle Rd   \n",
       "\n",
       "                                          attributes             business_id  \\\n",
       "0  {'BusinessAcceptsCreditCards': 'True', 'Restau...  irft4YkdNsww4DNf_Aftew   \n",
       "1  {'BusinessAcceptsCreditCards': 'True', 'Restau...  irft4YkdNsww4DNf_Aftew   \n",
       "\n",
       "                                          categories       city  \\\n",
       "0  Juice Bars & Smoothies, Food, Ice Cream & Froz...  Charlotte   \n",
       "1  Juice Bars & Smoothies, Food, Ice Cream & Froz...  Charlotte   \n",
       "\n",
       "                                               hours  is_open  latitude  \\\n",
       "0  {'Monday': '11:30-20:30', 'Tuesday': '11:30-20...        0  35.21051   \n",
       "1  {'Monday': '11:30-20:30', 'Tuesday': '11:30-20...        0  35.21051   \n",
       "\n",
       "   longitude  ... review_count state               review_id  \\\n",
       "0 -80.690262  ...            6    NC  zwHQZoAqsEtJ9IlQjS_hIQ   \n",
       "1 -80.690262  ...            6    NC  Ktv2KlhExTOIkriWl6M8_Q   \n",
       "\n",
       "                  user_id stars useful  funny  cool  \\\n",
       "0  1WSTFGDksl3bh0TBW1AHCw   3.0      0      0     0   \n",
       "1  S88QtT4esAcmYGD0Icx4hw   5.0      1      0     0   \n",
       "\n",
       "                                                text                 date  \n",
       "0  every time i have went their there was hair on...  2017-08-17 05:35:35  \n",
       "1  pretty good froyo place with all the toppings ...  2016-09-30 23:29:28  \n",
       "\n",
       "[2 rows x 22 columns]"
      ]
     },
     "execution_count": 12,
     "metadata": {},
     "output_type": "execute_result"
    }
   ],
   "source": [
    "merge = merge.head()\n",
    "merge.head(2)"
   ]
  },
  {
   "cell_type": "code",
   "execution_count": 13,
   "metadata": {},
   "outputs": [],
   "source": [
    "merge['text'] = merge['text'].apply(stop)"
   ]
  },
  {
   "cell_type": "code",
   "execution_count": 14,
   "metadata": {},
   "outputs": [
    {
     "data": {
      "text/html": [
       "<div>\n",
       "<style scoped>\n",
       "    .dataframe tbody tr th:only-of-type {\n",
       "        vertical-align: middle;\n",
       "    }\n",
       "\n",
       "    .dataframe tbody tr th {\n",
       "        vertical-align: top;\n",
       "    }\n",
       "\n",
       "    .dataframe thead th {\n",
       "        text-align: right;\n",
       "    }\n",
       "</style>\n",
       "<table border=\"1\" class=\"dataframe\">\n",
       "  <thead>\n",
       "    <tr style=\"text-align: right;\">\n",
       "      <th></th>\n",
       "      <th>Unnamed: 0</th>\n",
       "      <th>address</th>\n",
       "      <th>attributes</th>\n",
       "      <th>business_id</th>\n",
       "      <th>categories</th>\n",
       "      <th>city</th>\n",
       "      <th>hours</th>\n",
       "      <th>is_open</th>\n",
       "      <th>latitude</th>\n",
       "      <th>longitude</th>\n",
       "      <th>...</th>\n",
       "      <th>review_count</th>\n",
       "      <th>state</th>\n",
       "      <th>review_id</th>\n",
       "      <th>user_id</th>\n",
       "      <th>stars</th>\n",
       "      <th>useful</th>\n",
       "      <th>funny</th>\n",
       "      <th>cool</th>\n",
       "      <th>text</th>\n",
       "      <th>date</th>\n",
       "    </tr>\n",
       "  </thead>\n",
       "  <tbody>\n",
       "    <tr>\n",
       "      <th>0</th>\n",
       "      <td>0</td>\n",
       "      <td>9020 B Albemarle Rd</td>\n",
       "      <td>{'BusinessAcceptsCreditCards': 'True', 'Restau...</td>\n",
       "      <td>irft4YkdNsww4DNf_Aftew</td>\n",
       "      <td>Juice Bars &amp; Smoothies, Food, Ice Cream &amp; Froz...</td>\n",
       "      <td>Charlotte</td>\n",
       "      <td>{'Monday': '11:30-20:30', 'Tuesday': '11:30-20...</td>\n",
       "      <td>0</td>\n",
       "      <td>35.21051</td>\n",
       "      <td>-80.690262</td>\n",
       "      <td>...</td>\n",
       "      <td>6</td>\n",
       "      <td>NC</td>\n",
       "      <td>zwHQZoAqsEtJ9IlQjS_hIQ</td>\n",
       "      <td>1WSTFGDksl3bh0TBW1AHCw</td>\n",
       "      <td>3.0</td>\n",
       "      <td>0</td>\n",
       "      <td>0</td>\n",
       "      <td>0</td>\n",
       "      <td>[time, went, hair, icecream, broken, glass, gr...</td>\n",
       "      <td>2017-08-17 05:35:35</td>\n",
       "    </tr>\n",
       "    <tr>\n",
       "      <th>1</th>\n",
       "      <td>1</td>\n",
       "      <td>9020 B Albemarle Rd</td>\n",
       "      <td>{'BusinessAcceptsCreditCards': 'True', 'Restau...</td>\n",
       "      <td>irft4YkdNsww4DNf_Aftew</td>\n",
       "      <td>Juice Bars &amp; Smoothies, Food, Ice Cream &amp; Froz...</td>\n",
       "      <td>Charlotte</td>\n",
       "      <td>{'Monday': '11:30-20:30', 'Tuesday': '11:30-20...</td>\n",
       "      <td>0</td>\n",
       "      <td>35.21051</td>\n",
       "      <td>-80.690262</td>\n",
       "      <td>...</td>\n",
       "      <td>6</td>\n",
       "      <td>NC</td>\n",
       "      <td>Ktv2KlhExTOIkriWl6M8_Q</td>\n",
       "      <td>S88QtT4esAcmYGD0Icx4hw</td>\n",
       "      <td>5.0</td>\n",
       "      <td>1</td>\n",
       "      <td>0</td>\n",
       "      <td>0</td>\n",
       "      <td>[pretty, good, froyo, place, toppings, bubble,...</td>\n",
       "      <td>2016-09-30 23:29:28</td>\n",
       "    </tr>\n",
       "  </tbody>\n",
       "</table>\n",
       "<p>2 rows × 22 columns</p>\n",
       "</div>"
      ],
      "text/plain": [
       "   Unnamed: 0              address  \\\n",
       "0           0  9020 B Albemarle Rd   \n",
       "1           1  9020 B Albemarle Rd   \n",
       "\n",
       "                                          attributes             business_id  \\\n",
       "0  {'BusinessAcceptsCreditCards': 'True', 'Restau...  irft4YkdNsww4DNf_Aftew   \n",
       "1  {'BusinessAcceptsCreditCards': 'True', 'Restau...  irft4YkdNsww4DNf_Aftew   \n",
       "\n",
       "                                          categories       city  \\\n",
       "0  Juice Bars & Smoothies, Food, Ice Cream & Froz...  Charlotte   \n",
       "1  Juice Bars & Smoothies, Food, Ice Cream & Froz...  Charlotte   \n",
       "\n",
       "                                               hours  is_open  latitude  \\\n",
       "0  {'Monday': '11:30-20:30', 'Tuesday': '11:30-20...        0  35.21051   \n",
       "1  {'Monday': '11:30-20:30', 'Tuesday': '11:30-20...        0  35.21051   \n",
       "\n",
       "   longitude  ... review_count state               review_id  \\\n",
       "0 -80.690262  ...            6    NC  zwHQZoAqsEtJ9IlQjS_hIQ   \n",
       "1 -80.690262  ...            6    NC  Ktv2KlhExTOIkriWl6M8_Q   \n",
       "\n",
       "                  user_id stars useful  funny  cool  \\\n",
       "0  1WSTFGDksl3bh0TBW1AHCw   3.0      0      0     0   \n",
       "1  S88QtT4esAcmYGD0Icx4hw   5.0      1      0     0   \n",
       "\n",
       "                                                text                 date  \n",
       "0  [time, went, hair, icecream, broken, glass, gr...  2017-08-17 05:35:35  \n",
       "1  [pretty, good, froyo, place, toppings, bubble,...  2016-09-30 23:29:28  \n",
       "\n",
       "[2 rows x 22 columns]"
      ]
     },
     "execution_count": 14,
     "metadata": {},
     "output_type": "execute_result"
    }
   ],
   "source": [
    "merge.head(2)"
   ]
  },
  {
   "cell_type": "code",
   "execution_count": null,
   "metadata": {},
   "outputs": [],
   "source": []
  },
  {
   "cell_type": "code",
   "execution_count": 73,
   "metadata": {},
   "outputs": [],
   "source": [
    "import nltk\n",
    "#nltk.download('wordnet')\n",
    "from nltk.stem.wordnet import WordNetLemmatizer\n",
    "wnl = WordNetLemmatizer()"
   ]
  },
  {
   "cell_type": "code",
   "execution_count": 74,
   "metadata": {},
   "outputs": [],
   "source": [
    "def retrive_text(sentence):\n",
    "    sentence = list(map(lambda x: x.text,sentence))\n",
    "    return sentence\n",
    "def form_word(sentence):\n",
    "    sentence = list(map(lambda x: wnl.lemmatize(x,'v'),sentence))\n",
    "    sentence = list(map(lambda x: wnl.lemmatize(x,'n'),sentence))\n",
    "    sentence = list(map(lambda x: wnl.lemmatize(x,'a'),sentence))\n",
    "    return sentence"
   ]
  },
  {
   "cell_type": "code",
   "execution_count": 75,
   "metadata": {},
   "outputs": [
    {
     "ename": "AttributeError",
     "evalue": "'str' object has no attribute 'text'",
     "output_type": "error",
     "traceback": [
      "\u001b[1;31m---------------------------------------------------------------------------\u001b[0m",
      "\u001b[1;31mAttributeError\u001b[0m                            Traceback (most recent call last)",
      "\u001b[1;32m<ipython-input-75-09138897851e>\u001b[0m in \u001b[0;36m<module>\u001b[1;34m\u001b[0m\n\u001b[1;32m----> 1\u001b[1;33m \u001b[0mmerge\u001b[0m\u001b[1;33m[\u001b[0m\u001b[1;34m'text'\u001b[0m\u001b[1;33m]\u001b[0m \u001b[1;33m=\u001b[0m \u001b[0mmerge\u001b[0m\u001b[1;33m[\u001b[0m\u001b[1;34m'text'\u001b[0m\u001b[1;33m]\u001b[0m\u001b[1;33m.\u001b[0m\u001b[0mapply\u001b[0m\u001b[1;33m(\u001b[0m\u001b[0mretrive_text\u001b[0m\u001b[1;33m)\u001b[0m\u001b[1;33m\u001b[0m\u001b[1;33m\u001b[0m\u001b[0m\n\u001b[0m\u001b[0;32m      2\u001b[0m \u001b[0mmerge\u001b[0m\u001b[1;33m[\u001b[0m\u001b[1;34m'text'\u001b[0m\u001b[1;33m]\u001b[0m \u001b[1;33m=\u001b[0m \u001b[0mmerge\u001b[0m\u001b[1;33m[\u001b[0m\u001b[1;34m'text'\u001b[0m\u001b[1;33m]\u001b[0m\u001b[1;33m.\u001b[0m\u001b[0mapply\u001b[0m\u001b[1;33m(\u001b[0m\u001b[0mform_word\u001b[0m\u001b[1;33m)\u001b[0m\u001b[1;33m\u001b[0m\u001b[1;33m\u001b[0m\u001b[0m\n\u001b[0;32m      3\u001b[0m \u001b[0mmerge\u001b[0m\u001b[1;33m[\u001b[0m\u001b[1;34m'text'\u001b[0m\u001b[1;33m]\u001b[0m\u001b[1;33m[\u001b[0m\u001b[1;36m0\u001b[0m\u001b[1;33m]\u001b[0m\u001b[1;33m\u001b[0m\u001b[1;33m\u001b[0m\u001b[0m\n",
      "\u001b[1;32m~\\Anaconda3\\lib\\site-packages\\pandas\\core\\series.py\u001b[0m in \u001b[0;36mapply\u001b[1;34m(self, func, convert_dtype, args, **kwds)\u001b[0m\n\u001b[0;32m   3589\u001b[0m             \u001b[1;32melse\u001b[0m\u001b[1;33m:\u001b[0m\u001b[1;33m\u001b[0m\u001b[1;33m\u001b[0m\u001b[0m\n\u001b[0;32m   3590\u001b[0m                 \u001b[0mvalues\u001b[0m \u001b[1;33m=\u001b[0m \u001b[0mself\u001b[0m\u001b[1;33m.\u001b[0m\u001b[0mastype\u001b[0m\u001b[1;33m(\u001b[0m\u001b[0mobject\u001b[0m\u001b[1;33m)\u001b[0m\u001b[1;33m.\u001b[0m\u001b[0mvalues\u001b[0m\u001b[1;33m\u001b[0m\u001b[1;33m\u001b[0m\u001b[0m\n\u001b[1;32m-> 3591\u001b[1;33m                 \u001b[0mmapped\u001b[0m \u001b[1;33m=\u001b[0m \u001b[0mlib\u001b[0m\u001b[1;33m.\u001b[0m\u001b[0mmap_infer\u001b[0m\u001b[1;33m(\u001b[0m\u001b[0mvalues\u001b[0m\u001b[1;33m,\u001b[0m \u001b[0mf\u001b[0m\u001b[1;33m,\u001b[0m \u001b[0mconvert\u001b[0m\u001b[1;33m=\u001b[0m\u001b[0mconvert_dtype\u001b[0m\u001b[1;33m)\u001b[0m\u001b[1;33m\u001b[0m\u001b[1;33m\u001b[0m\u001b[0m\n\u001b[0m\u001b[0;32m   3592\u001b[0m \u001b[1;33m\u001b[0m\u001b[0m\n\u001b[0;32m   3593\u001b[0m         \u001b[1;32mif\u001b[0m \u001b[0mlen\u001b[0m\u001b[1;33m(\u001b[0m\u001b[0mmapped\u001b[0m\u001b[1;33m)\u001b[0m \u001b[1;32mand\u001b[0m \u001b[0misinstance\u001b[0m\u001b[1;33m(\u001b[0m\u001b[0mmapped\u001b[0m\u001b[1;33m[\u001b[0m\u001b[1;36m0\u001b[0m\u001b[1;33m]\u001b[0m\u001b[1;33m,\u001b[0m \u001b[0mSeries\u001b[0m\u001b[1;33m)\u001b[0m\u001b[1;33m:\u001b[0m\u001b[1;33m\u001b[0m\u001b[1;33m\u001b[0m\u001b[0m\n",
      "\u001b[1;32mpandas/_libs/lib.pyx\u001b[0m in \u001b[0;36mpandas._libs.lib.map_infer\u001b[1;34m()\u001b[0m\n",
      "\u001b[1;32m<ipython-input-74-40ee52aacb34>\u001b[0m in \u001b[0;36mretrive_text\u001b[1;34m(sentence)\u001b[0m\n\u001b[0;32m      1\u001b[0m \u001b[1;32mdef\u001b[0m \u001b[0mretrive_text\u001b[0m\u001b[1;33m(\u001b[0m\u001b[0msentence\u001b[0m\u001b[1;33m)\u001b[0m\u001b[1;33m:\u001b[0m\u001b[1;33m\u001b[0m\u001b[1;33m\u001b[0m\u001b[0m\n\u001b[1;32m----> 2\u001b[1;33m     \u001b[0msentence\u001b[0m \u001b[1;33m=\u001b[0m \u001b[0mlist\u001b[0m\u001b[1;33m(\u001b[0m\u001b[0mmap\u001b[0m\u001b[1;33m(\u001b[0m\u001b[1;32mlambda\u001b[0m \u001b[0mx\u001b[0m\u001b[1;33m:\u001b[0m \u001b[0mx\u001b[0m\u001b[1;33m.\u001b[0m\u001b[0mtext\u001b[0m\u001b[1;33m,\u001b[0m\u001b[0msentence\u001b[0m\u001b[1;33m)\u001b[0m\u001b[1;33m)\u001b[0m\u001b[1;33m\u001b[0m\u001b[1;33m\u001b[0m\u001b[0m\n\u001b[0m\u001b[0;32m      3\u001b[0m     \u001b[1;32mreturn\u001b[0m \u001b[0msentence\u001b[0m\u001b[1;33m\u001b[0m\u001b[1;33m\u001b[0m\u001b[0m\n\u001b[0;32m      4\u001b[0m \u001b[1;32mdef\u001b[0m \u001b[0mform_word\u001b[0m\u001b[1;33m(\u001b[0m\u001b[0msentence\u001b[0m\u001b[1;33m)\u001b[0m\u001b[1;33m:\u001b[0m\u001b[1;33m\u001b[0m\u001b[1;33m\u001b[0m\u001b[0m\n\u001b[0;32m      5\u001b[0m     \u001b[0msentence\u001b[0m \u001b[1;33m=\u001b[0m \u001b[0mlist\u001b[0m\u001b[1;33m(\u001b[0m\u001b[0mmap\u001b[0m\u001b[1;33m(\u001b[0m\u001b[1;32mlambda\u001b[0m \u001b[0mx\u001b[0m\u001b[1;33m:\u001b[0m \u001b[0mwnl\u001b[0m\u001b[1;33m.\u001b[0m\u001b[0mlemmatize\u001b[0m\u001b[1;33m(\u001b[0m\u001b[0mx\u001b[0m\u001b[1;33m,\u001b[0m\u001b[1;34m'v'\u001b[0m\u001b[1;33m)\u001b[0m\u001b[1;33m,\u001b[0m\u001b[0msentence\u001b[0m\u001b[1;33m)\u001b[0m\u001b[1;33m)\u001b[0m\u001b[1;33m\u001b[0m\u001b[1;33m\u001b[0m\u001b[0m\n",
      "\u001b[1;32m<ipython-input-74-40ee52aacb34>\u001b[0m in \u001b[0;36m<lambda>\u001b[1;34m(x)\u001b[0m\n\u001b[0;32m      1\u001b[0m \u001b[1;32mdef\u001b[0m \u001b[0mretrive_text\u001b[0m\u001b[1;33m(\u001b[0m\u001b[0msentence\u001b[0m\u001b[1;33m)\u001b[0m\u001b[1;33m:\u001b[0m\u001b[1;33m\u001b[0m\u001b[1;33m\u001b[0m\u001b[0m\n\u001b[1;32m----> 2\u001b[1;33m     \u001b[0msentence\u001b[0m \u001b[1;33m=\u001b[0m \u001b[0mlist\u001b[0m\u001b[1;33m(\u001b[0m\u001b[0mmap\u001b[0m\u001b[1;33m(\u001b[0m\u001b[1;32mlambda\u001b[0m \u001b[0mx\u001b[0m\u001b[1;33m:\u001b[0m \u001b[0mx\u001b[0m\u001b[1;33m.\u001b[0m\u001b[0mtext\u001b[0m\u001b[1;33m,\u001b[0m\u001b[0msentence\u001b[0m\u001b[1;33m)\u001b[0m\u001b[1;33m)\u001b[0m\u001b[1;33m\u001b[0m\u001b[1;33m\u001b[0m\u001b[0m\n\u001b[0m\u001b[0;32m      3\u001b[0m     \u001b[1;32mreturn\u001b[0m \u001b[0msentence\u001b[0m\u001b[1;33m\u001b[0m\u001b[1;33m\u001b[0m\u001b[0m\n\u001b[0;32m      4\u001b[0m \u001b[1;32mdef\u001b[0m \u001b[0mform_word\u001b[0m\u001b[1;33m(\u001b[0m\u001b[0msentence\u001b[0m\u001b[1;33m)\u001b[0m\u001b[1;33m:\u001b[0m\u001b[1;33m\u001b[0m\u001b[1;33m\u001b[0m\u001b[0m\n\u001b[0;32m      5\u001b[0m     \u001b[0msentence\u001b[0m \u001b[1;33m=\u001b[0m \u001b[0mlist\u001b[0m\u001b[1;33m(\u001b[0m\u001b[0mmap\u001b[0m\u001b[1;33m(\u001b[0m\u001b[1;32mlambda\u001b[0m \u001b[0mx\u001b[0m\u001b[1;33m:\u001b[0m \u001b[0mwnl\u001b[0m\u001b[1;33m.\u001b[0m\u001b[0mlemmatize\u001b[0m\u001b[1;33m(\u001b[0m\u001b[0mx\u001b[0m\u001b[1;33m,\u001b[0m\u001b[1;34m'v'\u001b[0m\u001b[1;33m)\u001b[0m\u001b[1;33m,\u001b[0m\u001b[0msentence\u001b[0m\u001b[1;33m)\u001b[0m\u001b[1;33m)\u001b[0m\u001b[1;33m\u001b[0m\u001b[1;33m\u001b[0m\u001b[0m\n",
      "\u001b[1;31mAttributeError\u001b[0m: 'str' object has no attribute 'text'"
     ]
    }
   ],
   "source": [
    "merge['text'] = merge['text'].apply(retrive_text)\n",
    "merge['text'] = merge['text'].apply(form_word)\n",
    "merge['text'][0]"
   ]
  },
  {
   "cell_type": "code",
   "execution_count": 18,
   "metadata": {},
   "outputs": [
    {
     "data": {
      "text/plain": [
       "str"
      ]
     },
     "execution_count": 18,
     "metadata": {},
     "output_type": "execute_result"
    }
   ],
   "source": [
    "type(merge['text'][0][0])"
   ]
  },
  {
   "cell_type": "markdown",
   "metadata": {},
   "source": [
    "### word count"
   ]
  },
  {
   "cell_type": "code",
   "execution_count": 3,
   "metadata": {},
   "outputs": [],
   "source": [
    "import torch\n",
    "from torchtext import data\n",
    "from torchtext.data import TabularDataset\n",
    "SEED = 1234\n",
    "\n",
    "torch.manual_seed(SEED)\n",
    "torch.backends.cudnn.deterministic = True\n",
    "\n",
    "TEXT = data.Field(tokenize = 'spacy',lower=True)\n",
    "LABEL = data.LabelField(dtype = torch.float)"
   ]
  },
  {
   "cell_type": "code",
   "execution_count": 40,
   "metadata": {},
   "outputs": [
    {
     "data": {
      "text/html": [
       "<div>\n",
       "<style scoped>\n",
       "    .dataframe tbody tr th:only-of-type {\n",
       "        vertical-align: middle;\n",
       "    }\n",
       "\n",
       "    .dataframe tbody tr th {\n",
       "        vertical-align: top;\n",
       "    }\n",
       "\n",
       "    .dataframe thead th {\n",
       "        text-align: right;\n",
       "    }\n",
       "</style>\n",
       "<table border=\"1\" class=\"dataframe\">\n",
       "  <thead>\n",
       "    <tr style=\"text-align: right;\">\n",
       "      <th></th>\n",
       "      <th>text</th>\n",
       "      <th>stars</th>\n",
       "    </tr>\n",
       "  </thead>\n",
       "  <tbody>\n",
       "    <tr>\n",
       "      <th>0</th>\n",
       "      <td>[time, go, hair, icecream, break, glass, grind...</td>\n",
       "      <td>3.0</td>\n",
       "    </tr>\n",
       "    <tr>\n",
       "      <th>1</th>\n",
       "      <td>[pretty, good, froyo, place, topping, bubble, ...</td>\n",
       "      <td>5.0</td>\n",
       "    </tr>\n",
       "    <tr>\n",
       "      <th>2</th>\n",
       "      <td>[love, place,  , freeze, yogurt, good,  , week...</td>\n",
       "      <td>5.0</td>\n",
       "    </tr>\n",
       "    <tr>\n",
       "      <th>3</th>\n",
       "      <td>[freeze, yogurt, come, bubble, tea, !, lot, bu...</td>\n",
       "      <td>5.0</td>\n",
       "    </tr>\n",
       "    <tr>\n",
       "      <th>4</th>\n",
       "      <td>[love, place, !, amaze, freeze, yogurt, great,...</td>\n",
       "      <td>5.0</td>\n",
       "    </tr>\n",
       "  </tbody>\n",
       "</table>\n",
       "</div>"
      ],
      "text/plain": [
       "                                                text  stars\n",
       "0  [time, go, hair, icecream, break, glass, grind...    3.0\n",
       "1  [pretty, good, froyo, place, topping, bubble, ...    5.0\n",
       "2  [love, place,  , freeze, yogurt, good,  , week...    5.0\n",
       "3  [freeze, yogurt, come, bubble, tea, !, lot, bu...    5.0\n",
       "4  [love, place, !, amaze, freeze, yogurt, great,...    5.0"
      ]
     },
     "execution_count": 40,
     "metadata": {},
     "output_type": "execute_result"
    }
   ],
   "source": [
    "inte = merge[['text','stars']]\n",
    "inte"
   ]
  },
  {
   "cell_type": "code",
   "execution_count": 24,
   "metadata": {},
   "outputs": [],
   "source": [
    "def list_to_string(sentence):\n",
    "    sentence = \" \".join(sentence)\n",
    "    return sentence"
   ]
  },
  {
   "cell_type": "code",
   "execution_count": 22,
   "metadata": {},
   "outputs": [
    {
     "data": {
      "text/plain": [
       "['time go hair icecream break glass grind door.t best place eat want icecream guest',\n",
       " 'pretty good froyo place topping bubble boba tea option sure satisfy sweet tooth plethora mix - in owner super nice sure pick \" frequent fly \" card ... free 5 oz cup 5 purchase',\n",
       " 'love place   freeze yogurt good   week !   shop clean staff pleasant',\n",
       " 'freeze yogurt come bubble tea ! lot bubble tea charlotte get favorite location owner use fresh fruit make huge difference simply delicious !',\n",
       " 'love place ! amaze freeze yogurt great bubble tea ! clean organize inside people friendly definitely visit cool time summer']"
      ]
     },
     "execution_count": 22,
     "metadata": {},
     "output_type": "execute_result"
    }
   ],
   "source": [
    "list(map(list_to_string,inte['text']))"
   ]
  },
  {
   "cell_type": "code",
   "execution_count": 25,
   "metadata": {},
   "outputs": [],
   "source": [
    "inte['text'] = list(map(list_to_string,inte['text']))"
   ]
  },
  {
   "cell_type": "code",
   "execution_count": 24,
   "metadata": {},
   "outputs": [
    {
     "data": {
      "text/html": [
       "<div>\n",
       "<style scoped>\n",
       "    .dataframe tbody tr th:only-of-type {\n",
       "        vertical-align: middle;\n",
       "    }\n",
       "\n",
       "    .dataframe tbody tr th {\n",
       "        vertical-align: top;\n",
       "    }\n",
       "\n",
       "    .dataframe thead th {\n",
       "        text-align: right;\n",
       "    }\n",
       "</style>\n",
       "<table border=\"1\" class=\"dataframe\">\n",
       "  <thead>\n",
       "    <tr style=\"text-align: right;\">\n",
       "      <th></th>\n",
       "      <th>text</th>\n",
       "      <th>stars</th>\n",
       "    </tr>\n",
       "  </thead>\n",
       "  <tbody>\n",
       "    <tr>\n",
       "      <th>0</th>\n",
       "      <td>time go hair icecream break glass grind door.t...</td>\n",
       "      <td>3.0</td>\n",
       "    </tr>\n",
       "    <tr>\n",
       "      <th>1</th>\n",
       "      <td>pretty good froyo place topping bubble boba te...</td>\n",
       "      <td>5.0</td>\n",
       "    </tr>\n",
       "    <tr>\n",
       "      <th>2</th>\n",
       "      <td>love place   freeze yogurt good   week !   sho...</td>\n",
       "      <td>5.0</td>\n",
       "    </tr>\n",
       "    <tr>\n",
       "      <th>3</th>\n",
       "      <td>freeze yogurt come bubble tea ! lot bubble tea...</td>\n",
       "      <td>5.0</td>\n",
       "    </tr>\n",
       "    <tr>\n",
       "      <th>4</th>\n",
       "      <td>love place ! amaze freeze yogurt great bubble ...</td>\n",
       "      <td>5.0</td>\n",
       "    </tr>\n",
       "  </tbody>\n",
       "</table>\n",
       "</div>"
      ],
      "text/plain": [
       "                                                text  stars\n",
       "0  time go hair icecream break glass grind door.t...    3.0\n",
       "1  pretty good froyo place topping bubble boba te...    5.0\n",
       "2  love place   freeze yogurt good   week !   sho...    5.0\n",
       "3  freeze yogurt come bubble tea ! lot bubble tea...    5.0\n",
       "4  love place ! amaze freeze yogurt great bubble ...    5.0"
      ]
     },
     "execution_count": 24,
     "metadata": {},
     "output_type": "execute_result"
    }
   ],
   "source": [
    "inte.head()"
   ]
  },
  {
   "cell_type": "code",
   "execution_count": 25,
   "metadata": {},
   "outputs": [],
   "source": [
    "inte.to_csv('inte.csv',index=False)"
   ]
  },
  {
   "cell_type": "code",
   "execution_count": 195,
   "metadata": {},
   "outputs": [],
   "source": [
    "inte = pd.read_csv('csv/inte.csv')"
   ]
  },
  {
   "cell_type": "code",
   "execution_count": 4,
   "metadata": {},
   "outputs": [],
   "source": [
    "txt_datafields = [(\"text\", TEXT), # we won't be needing the id, so we pass in None as the field\n",
    "                  (\"stars\", LABEL)]\n",
    "txt = TabularDataset(\n",
    "           path=\"csv/inte.csv\", # the file path\n",
    "           format='csv',\n",
    "           skip_header=True, # if your csv header has a header, make sure to pass this to ensure it doesn't get proceesed as data!\n",
    "           fields=txt_datafields)"
   ]
  },
  {
   "cell_type": "code",
   "execution_count": 5,
   "metadata": {},
   "outputs": [
    {
     "name": "stdout",
     "output_type": "stream",
     "text": [
      "Number of testing examples: 123397\n"
     ]
    }
   ],
   "source": [
    "print(f'Number of testing examples: {len(txt)}')"
   ]
  },
  {
   "cell_type": "markdown",
   "metadata": {},
   "source": [
    "### build vocab"
   ]
  },
  {
   "cell_type": "code",
   "execution_count": 2,
   "metadata": {},
   "outputs": [],
   "source": [
    "inte = pd.read_csv('csv/inte.csv')\n",
    "#inte = inte.head(100)"
   ]
  },
  {
   "cell_type": "code",
   "execution_count": null,
   "metadata": {},
   "outputs": [],
   "source": []
  },
  {
   "cell_type": "code",
   "execution_count": 6,
   "metadata": {},
   "outputs": [
    {
     "name": "stdout",
     "output_type": "stream",
     "text": [
      "Unique tokens in TEXT vocabulary: 63228\n",
      "Unique tokens in LABEL vocabulary: 5\n"
     ]
    }
   ],
   "source": [
    "TEXT.build_vocab(txt)\n",
    "LABEL.build_vocab(txt)\n",
    "print(f\"Unique tokens in TEXT vocabulary: {len(TEXT.vocab)}\")\n",
    "print(f\"Unique tokens in LABEL vocabulary: {len(LABEL.vocab)}\")"
   ]
  },
  {
   "cell_type": "code",
   "execution_count": 7,
   "metadata": {},
   "outputs": [
    {
     "data": {
      "text/html": [
       "<div>\n",
       "<style scoped>\n",
       "    .dataframe tbody tr th:only-of-type {\n",
       "        vertical-align: middle;\n",
       "    }\n",
       "\n",
       "    .dataframe tbody tr th {\n",
       "        vertical-align: top;\n",
       "    }\n",
       "\n",
       "    .dataframe thead th {\n",
       "        text-align: right;\n",
       "    }\n",
       "</style>\n",
       "<table border=\"1\" class=\"dataframe\">\n",
       "  <thead>\n",
       "    <tr style=\"text-align: right;\">\n",
       "      <th></th>\n",
       "      <th>word</th>\n",
       "      <th>count</th>\n",
       "    </tr>\n",
       "  </thead>\n",
       "  <tbody>\n",
       "    <tr>\n",
       "      <th>6</th>\n",
       "      <td>icecream</td>\n",
       "      <td>95815</td>\n",
       "    </tr>\n",
       "    <tr>\n",
       "      <th>7</th>\n",
       "      <td>place</td>\n",
       "      <td>79896</td>\n",
       "    </tr>\n",
       "    <tr>\n",
       "      <th>8</th>\n",
       "      <td>good</td>\n",
       "      <td>67802</td>\n",
       "    </tr>\n",
       "    <tr>\n",
       "      <th>11</th>\n",
       "      <td>like</td>\n",
       "      <td>53533</td>\n",
       "    </tr>\n",
       "    <tr>\n",
       "      <th>12</th>\n",
       "      <td>flavor</td>\n",
       "      <td>53019</td>\n",
       "    </tr>\n",
       "    <tr>\n",
       "      <th>13</th>\n",
       "      <td>try</td>\n",
       "      <td>45872</td>\n",
       "    </tr>\n",
       "    <tr>\n",
       "      <th>14</th>\n",
       "      <td>time</td>\n",
       "      <td>41837</td>\n",
       "    </tr>\n",
       "    <tr>\n",
       "      <th>15</th>\n",
       "      <td>great</td>\n",
       "      <td>39712</td>\n",
       "    </tr>\n",
       "    <tr>\n",
       "      <th>16</th>\n",
       "      <td>order</td>\n",
       "      <td>38019</td>\n",
       "    </tr>\n",
       "    <tr>\n",
       "      <th>17</th>\n",
       "      <td>come</td>\n",
       "      <td>37873</td>\n",
       "    </tr>\n",
       "    <tr>\n",
       "      <th>19</th>\n",
       "      <td>get</td>\n",
       "      <td>35381</td>\n",
       "    </tr>\n",
       "    <tr>\n",
       "      <th>20</th>\n",
       "      <td>love</td>\n",
       "      <td>34637</td>\n",
       "    </tr>\n",
       "    <tr>\n",
       "      <th>21</th>\n",
       "      <td>chocolate</td>\n",
       "      <td>28461</td>\n",
       "    </tr>\n",
       "    <tr>\n",
       "      <th>22</th>\n",
       "      <td>go</td>\n",
       "      <td>28425</td>\n",
       "    </tr>\n",
       "    <tr>\n",
       "      <th>23</th>\n",
       "      <td>service</td>\n",
       "      <td>28369</td>\n",
       "    </tr>\n",
       "    <tr>\n",
       "      <th>24</th>\n",
       "      <td>taste</td>\n",
       "      <td>28351</td>\n",
       "    </tr>\n",
       "    <tr>\n",
       "      <th>26</th>\n",
       "      <td>food</td>\n",
       "      <td>24693</td>\n",
       "    </tr>\n",
       "    <tr>\n",
       "      <th>27</th>\n",
       "      <td>?</td>\n",
       "      <td>24048</td>\n",
       "    </tr>\n",
       "    <tr>\n",
       "      <th>28</th>\n",
       "      <td>delicious</td>\n",
       "      <td>21685</td>\n",
       "    </tr>\n",
       "    <tr>\n",
       "      <th>29</th>\n",
       "      <td>sweet</td>\n",
       "      <td>21274</td>\n",
       "    </tr>\n",
       "  </tbody>\n",
       "</table>\n",
       "</div>"
      ],
      "text/plain": [
       "         word  count\n",
       "6    icecream  95815\n",
       "7       place  79896\n",
       "8        good  67802\n",
       "11       like  53533\n",
       "12     flavor  53019\n",
       "13        try  45872\n",
       "14       time  41837\n",
       "15      great  39712\n",
       "16      order  38019\n",
       "17       come  37873\n",
       "19        get  35381\n",
       "20       love  34637\n",
       "21  chocolate  28461\n",
       "22         go  28425\n",
       "23    service  28369\n",
       "24      taste  28351\n",
       "26       food  24693\n",
       "27          ?  24048\n",
       "28  delicious  21685\n",
       "29      sweet  21274"
      ]
     },
     "execution_count": 7,
     "metadata": {},
     "output_type": "execute_result"
    }
   ],
   "source": [
    "common = TEXT.vocab.freqs.most_common(514)\n",
    "total_count = pd.DataFrame(common,columns=['word','count'])\n",
    "total_count.drop(index = [0,1,2,3,4,5,9,10,18,25,47,83,106,139],inplace = True)\n",
    "total_count.head(20)"
   ]
  },
  {
   "cell_type": "code",
   "execution_count": null,
   "metadata": {},
   "outputs": [],
   "source": []
  },
  {
   "cell_type": "code",
   "execution_count": 93,
   "metadata": {},
   "outputs": [
    {
     "data": {
      "text/html": [
       "<div>\n",
       "<style scoped>\n",
       "    .dataframe tbody tr th:only-of-type {\n",
       "        vertical-align: middle;\n",
       "    }\n",
       "\n",
       "    .dataframe tbody tr th {\n",
       "        vertical-align: top;\n",
       "    }\n",
       "\n",
       "    .dataframe thead th {\n",
       "        text-align: right;\n",
       "    }\n",
       "</style>\n",
       "<table border=\"1\" class=\"dataframe\">\n",
       "  <thead>\n",
       "    <tr style=\"text-align: right;\">\n",
       "      <th></th>\n",
       "    </tr>\n",
       "  </thead>\n",
       "  <tbody>\n",
       "  </tbody>\n",
       "</table>\n",
       "</div>"
      ],
      "text/plain": [
       "Empty DataFrame\n",
       "Columns: []\n",
       "Index: []"
      ]
     },
     "execution_count": 93,
     "metadata": {},
     "output_type": "execute_result"
    }
   ],
   "source": [
    "df = pd.DataFrame()\n",
    "type(df)\n",
    "df"
   ]
  },
  {
   "cell_type": "code",
   "execution_count": 107,
   "metadata": {},
   "outputs": [],
   "source": [
    "df = pd.DataFrame()\n",
    "for i in range(inte.shape[0]):\n",
    "    ex0 = vars(txt.examples[i])['text']\n",
    "    count = [ex0.count(i) for i in total_count['word']]\n",
    "    pd0 = pd.DataFrame(count).transpose()\n",
    "    pd0.columns = total_count['word']\n",
    "    df = df.append(pd0)"
   ]
  },
  {
   "cell_type": "code",
   "execution_count": 115,
   "metadata": {},
   "outputs": [
    {
     "ename": "TypeError",
     "evalue": "'NoneType' object is not callable",
     "output_type": "error",
     "traceback": [
      "\u001b[1;31m---------------------------------------------------------------------------\u001b[0m",
      "\u001b[1;31mTypeError\u001b[0m                                 Traceback (most recent call last)",
      "\u001b[1;32m<ipython-input-115-95e6a94ec7c9>\u001b[0m in \u001b[0;36m<module>\u001b[1;34m\u001b[0m\n\u001b[1;32m----> 1\u001b[1;33m \u001b[0mTEXT\u001b[0m\u001b[1;33m.\u001b[0m\u001b[0mvocab\u001b[0m\u001b[1;33m.\u001b[0m\u001b[0mvectors\u001b[0m\u001b[1;33m(\u001b[0m\u001b[1;33m)\u001b[0m\u001b[1;33m\u001b[0m\u001b[1;33m\u001b[0m\u001b[0m\n\u001b[0m",
      "\u001b[1;31mTypeError\u001b[0m: 'NoneType' object is not callable"
     ]
    }
   ],
   "source": [
    "TEXT.vocab.vectors()"
   ]
  },
  {
   "cell_type": "code",
   "execution_count": 69,
   "metadata": {},
   "outputs": [
    {
     "data": {
      "text/plain": [
       "['love',\n",
       " 'place',\n",
       " '!',\n",
       " 'amaze',\n",
       " 'freeze',\n",
       " 'yogurt',\n",
       " 'great',\n",
       " 'bubble',\n",
       " 'tea',\n",
       " '!',\n",
       " 'clean',\n",
       " 'organize',\n",
       " 'inside',\n",
       " 'people',\n",
       " 'friendly',\n",
       " 'definitely',\n",
       " 'visit',\n",
       " 'cool',\n",
       " 'time',\n",
       " 'summer']"
      ]
     },
     "execution_count": 69,
     "metadata": {},
     "output_type": "execute_result"
    }
   ],
   "source": [
    "vars(txt.examples[i])['text']"
   ]
  },
  {
   "cell_type": "code",
   "execution_count": null,
   "metadata": {},
   "outputs": [],
   "source": [
    "ex0 = vars(txt.examples[i])['text']\n",
    "count = [ex0.count(i) for i in total_count['word']]\n",
    "pd0 = pd.DataFrame(count).transpose()\n",
    "pd0.columns = total_count['word']\n",
    "pd0"
   ]
  },
  {
   "cell_type": "code",
   "execution_count": null,
   "metadata": {},
   "outputs": [],
   "source": [
    "pd.DataFrame(count)"
   ]
  },
  {
   "cell_type": "code",
   "execution_count": null,
   "metadata": {},
   "outputs": [],
   "source": [
    "ex0 = vars(txt.examples[1])['text']\n",
    "count = [ex0.count(i) for i in total_count['word']]\n",
    "pd0 = pd.DataFrame(count).transpose()\n",
    "pd0.columns = total_count['word']\n",
    "pd0"
   ]
  },
  {
   "cell_type": "code",
   "execution_count": null,
   "metadata": {},
   "outputs": [],
   "source": [
    "ex2 = vars(txt.examples[2])['text']\n",
    "count2 = [ex2.count(i) for i in total_count['word']]\n",
    "pd2 = pd.DataFrame(count2).transpose()\n",
    "pd2.columns = total_count['word']\n",
    "pd2"
   ]
  },
  {
   "cell_type": "code",
   "execution_count": null,
   "metadata": {},
   "outputs": [],
   "source": [
    "pd0.append(pd2)"
   ]
  },
  {
   "cell_type": "code",
   "execution_count": null,
   "metadata": {},
   "outputs": [],
   "source": [
    "pd2.append(count2)"
   ]
  },
  {
   "cell_type": "code",
   "execution_count": null,
   "metadata": {},
   "outputs": [],
   "source": [
    "sentence = nlp(\"the word is definitelynotastopword\")\n",
    "sentence"
   ]
  },
  {
   "cell_type": "code",
   "execution_count": null,
   "metadata": {},
   "outputs": [],
   "source": [
    "sentence = nlp(merge['text'][0])\n",
    "sentence"
   ]
  },
  {
   "cell_type": "code",
   "execution_count": null,
   "metadata": {},
   "outputs": [],
   "source": [
    "list(filter(lambda x: False if x.is_stop else True, sentence))"
   ]
  },
  {
   "cell_type": "code",
   "execution_count": 42,
   "metadata": {},
   "outputs": [
    {
     "data": {
      "text/plain": [
       "5"
      ]
     },
     "execution_count": 42,
     "metadata": {},
     "output_type": "execute_result"
    }
   ],
   "source": [
    "inte.shape[0]"
   ]
  },
  {
   "cell_type": "code",
   "execution_count": 118,
   "metadata": {},
   "outputs": [],
   "source": [
    "count = pd.read_csv('csv/count.csv')"
   ]
  },
  {
   "cell_type": "code",
   "execution_count": 121,
   "metadata": {},
   "outputs": [
    {
     "data": {
      "text/plain": [
       "(123397, 22)"
      ]
     },
     "execution_count": 121,
     "metadata": {},
     "output_type": "execute_result"
    }
   ],
   "source": [
    "merge.shape"
   ]
  },
  {
   "cell_type": "code",
   "execution_count": 122,
   "metadata": {},
   "outputs": [
    {
     "data": {
      "text/plain": [
       "(123397, 500)"
      ]
     },
     "execution_count": 122,
     "metadata": {},
     "output_type": "execute_result"
    }
   ],
   "source": [
    "count.shape"
   ]
  },
  {
   "cell_type": "code",
   "execution_count": 126,
   "metadata": {},
   "outputs": [],
   "source": [
    "word_count_label = pd.concat([count,merge],axis = 1)"
   ]
  },
  {
   "cell_type": "code",
   "execution_count": 127,
   "metadata": {},
   "outputs": [
    {
     "data": {
      "text/plain": [
       "(123397, 522)"
      ]
     },
     "execution_count": 127,
     "metadata": {},
     "output_type": "execute_result"
    }
   ],
   "source": [
    "word_count_label.shape"
   ]
  },
  {
   "cell_type": "code",
   "execution_count": 129,
   "metadata": {},
   "outputs": [
    {
     "data": {
      "text/html": [
       "<div>\n",
       "<style scoped>\n",
       "    .dataframe tbody tr th:only-of-type {\n",
       "        vertical-align: middle;\n",
       "    }\n",
       "\n",
       "    .dataframe tbody tr th {\n",
       "        vertical-align: top;\n",
       "    }\n",
       "\n",
       "    .dataframe thead th {\n",
       "        text-align: right;\n",
       "    }\n",
       "</style>\n",
       "<table border=\"1\" class=\"dataframe\">\n",
       "  <thead>\n",
       "    <tr style=\"text-align: right;\">\n",
       "      <th></th>\n",
       "      <th>icecream</th>\n",
       "      <th>place</th>\n",
       "      <th>good</th>\n",
       "      <th>like</th>\n",
       "      <th>flavor</th>\n",
       "      <th>try</th>\n",
       "      <th>time</th>\n",
       "      <th>great</th>\n",
       "      <th>order</th>\n",
       "      <th>come</th>\n",
       "      <th>...</th>\n",
       "      <th>review_count</th>\n",
       "      <th>state</th>\n",
       "      <th>review_id</th>\n",
       "      <th>user_id</th>\n",
       "      <th>stars</th>\n",
       "      <th>useful</th>\n",
       "      <th>funny</th>\n",
       "      <th>cool</th>\n",
       "      <th>text</th>\n",
       "      <th>date</th>\n",
       "    </tr>\n",
       "  </thead>\n",
       "  <tbody>\n",
       "    <tr>\n",
       "      <th>0</th>\n",
       "      <td>2</td>\n",
       "      <td>1</td>\n",
       "      <td>0</td>\n",
       "      <td>0</td>\n",
       "      <td>0</td>\n",
       "      <td>0</td>\n",
       "      <td>1</td>\n",
       "      <td>0</td>\n",
       "      <td>0</td>\n",
       "      <td>0</td>\n",
       "      <td>...</td>\n",
       "      <td>6</td>\n",
       "      <td>NC</td>\n",
       "      <td>zwHQZoAqsEtJ9IlQjS_hIQ</td>\n",
       "      <td>1WSTFGDksl3bh0TBW1AHCw</td>\n",
       "      <td>3.0</td>\n",
       "      <td>0</td>\n",
       "      <td>0</td>\n",
       "      <td>0</td>\n",
       "      <td>Every time I have went their there was hair on...</td>\n",
       "      <td>2017-08-17 05:35:35</td>\n",
       "    </tr>\n",
       "    <tr>\n",
       "      <th>1</th>\n",
       "      <td>0</td>\n",
       "      <td>1</td>\n",
       "      <td>1</td>\n",
       "      <td>0</td>\n",
       "      <td>0</td>\n",
       "      <td>0</td>\n",
       "      <td>0</td>\n",
       "      <td>0</td>\n",
       "      <td>0</td>\n",
       "      <td>0</td>\n",
       "      <td>...</td>\n",
       "      <td>6</td>\n",
       "      <td>NC</td>\n",
       "      <td>Ktv2KlhExTOIkriWl6M8_Q</td>\n",
       "      <td>S88QtT4esAcmYGD0Icx4hw</td>\n",
       "      <td>5.0</td>\n",
       "      <td>1</td>\n",
       "      <td>0</td>\n",
       "      <td>0</td>\n",
       "      <td>Pretty good FroYo place with all the toppings ...</td>\n",
       "      <td>2016-09-30 23:29:28</td>\n",
       "    </tr>\n",
       "    <tr>\n",
       "      <th>2</th>\n",
       "      <td>0</td>\n",
       "      <td>1</td>\n",
       "      <td>1</td>\n",
       "      <td>0</td>\n",
       "      <td>0</td>\n",
       "      <td>0</td>\n",
       "      <td>0</td>\n",
       "      <td>0</td>\n",
       "      <td>0</td>\n",
       "      <td>0</td>\n",
       "      <td>...</td>\n",
       "      <td>6</td>\n",
       "      <td>NC</td>\n",
       "      <td>l1rj3Hel-0FsokfDIs4AOw</td>\n",
       "      <td>xs1MftEQfjbjMeUIm5Xicg</td>\n",
       "      <td>5.0</td>\n",
       "      <td>2</td>\n",
       "      <td>0</td>\n",
       "      <td>1</td>\n",
       "      <td>Love this place.  Frozen yogurt is so good.  W...</td>\n",
       "      <td>2013-08-19 11:19:45</td>\n",
       "    </tr>\n",
       "    <tr>\n",
       "      <th>3</th>\n",
       "      <td>0</td>\n",
       "      <td>0</td>\n",
       "      <td>0</td>\n",
       "      <td>0</td>\n",
       "      <td>0</td>\n",
       "      <td>0</td>\n",
       "      <td>0</td>\n",
       "      <td>0</td>\n",
       "      <td>0</td>\n",
       "      <td>1</td>\n",
       "      <td>...</td>\n",
       "      <td>6</td>\n",
       "      <td>NC</td>\n",
       "      <td>W7Sgp_8TepIpL6vZSvawsQ</td>\n",
       "      <td>_UncNn1mojG96wubQkUf2g</td>\n",
       "      <td>5.0</td>\n",
       "      <td>1</td>\n",
       "      <td>0</td>\n",
       "      <td>0</td>\n",
       "      <td>I've never had the frozen yogurt here but I ke...</td>\n",
       "      <td>2016-06-15 14:36:24</td>\n",
       "    </tr>\n",
       "    <tr>\n",
       "      <th>4</th>\n",
       "      <td>0</td>\n",
       "      <td>1</td>\n",
       "      <td>0</td>\n",
       "      <td>0</td>\n",
       "      <td>0</td>\n",
       "      <td>0</td>\n",
       "      <td>1</td>\n",
       "      <td>1</td>\n",
       "      <td>0</td>\n",
       "      <td>0</td>\n",
       "      <td>...</td>\n",
       "      <td>6</td>\n",
       "      <td>NC</td>\n",
       "      <td>OUASGM8dyztVxNcgJB9g-w</td>\n",
       "      <td>bgkgVMldxfFLbil82I0Dyw</td>\n",
       "      <td>5.0</td>\n",
       "      <td>0</td>\n",
       "      <td>0</td>\n",
       "      <td>0</td>\n",
       "      <td>Love this place! Amazing frozen yogurt and gre...</td>\n",
       "      <td>2017-06-16 18:35:13</td>\n",
       "    </tr>\n",
       "  </tbody>\n",
       "</table>\n",
       "<p>5 rows × 522 columns</p>\n",
       "</div>"
      ],
      "text/plain": [
       "   icecream  place  good  like  flavor  try  time  great  order  come  ...  \\\n",
       "0         2      1     0     0       0    0     1      0      0     0  ...   \n",
       "1         0      1     1     0       0    0     0      0      0     0  ...   \n",
       "2         0      1     1     0       0    0     0      0      0     0  ...   \n",
       "3         0      0     0     0       0    0     0      0      0     1  ...   \n",
       "4         0      1     0     0       0    0     1      1      0     0  ...   \n",
       "\n",
       "   review_count  state               review_id                 user_id  stars  \\\n",
       "0             6     NC  zwHQZoAqsEtJ9IlQjS_hIQ  1WSTFGDksl3bh0TBW1AHCw    3.0   \n",
       "1             6     NC  Ktv2KlhExTOIkriWl6M8_Q  S88QtT4esAcmYGD0Icx4hw    5.0   \n",
       "2             6     NC  l1rj3Hel-0FsokfDIs4AOw  xs1MftEQfjbjMeUIm5Xicg    5.0   \n",
       "3             6     NC  W7Sgp_8TepIpL6vZSvawsQ  _UncNn1mojG96wubQkUf2g    5.0   \n",
       "4             6     NC  OUASGM8dyztVxNcgJB9g-w  bgkgVMldxfFLbil82I0Dyw    5.0   \n",
       "\n",
       "   useful  funny  cool                                               text  \\\n",
       "0       0      0     0  Every time I have went their there was hair on...   \n",
       "1       1      0     0  Pretty good FroYo place with all the toppings ...   \n",
       "2       2      0     1  Love this place.  Frozen yogurt is so good.  W...   \n",
       "3       1      0     0  I've never had the frozen yogurt here but I ke...   \n",
       "4       0      0     0  Love this place! Amazing frozen yogurt and gre...   \n",
       "\n",
       "                  date  \n",
       "0  2017-08-17 05:35:35  \n",
       "1  2016-09-30 23:29:28  \n",
       "2  2013-08-19 11:19:45  \n",
       "3  2016-06-15 14:36:24  \n",
       "4  2017-06-16 18:35:13  \n",
       "\n",
       "[5 rows x 522 columns]"
      ]
     },
     "execution_count": 129,
     "metadata": {},
     "output_type": "execute_result"
    }
   ],
   "source": [
    "word_count_label.head()"
   ]
  },
  {
   "cell_type": "code",
   "execution_count": 130,
   "metadata": {},
   "outputs": [],
   "source": [
    "word_count_label.to_csv('csv/word_count_label.csv',index=False)"
   ]
  },
  {
   "cell_type": "code",
   "execution_count": 141,
   "metadata": {},
   "outputs": [],
   "source": [
    "world = pd.read_csv('csv/word_count_label.csv')"
   ]
  },
  {
   "cell_type": "code",
   "execution_count": 143,
   "metadata": {},
   "outputs": [
    {
     "data": {
      "text/plain": [
       "(123397, 522)"
      ]
     },
     "execution_count": 143,
     "metadata": {},
     "output_type": "execute_result"
    }
   ],
   "source": [
    "world.shape"
   ]
  },
  {
   "cell_type": "markdown",
   "metadata": {},
   "source": [
    "#### word cloud"
   ]
  },
  {
   "cell_type": "code",
   "execution_count": 8,
   "metadata": {},
   "outputs": [],
   "source": [
    "from PIL import Image\n",
    "from wordcloud import WordCloud, STOPWORDS, ImageColorGenerator\n",
    "\n",
    "import matplotlib.pyplot as plt\n",
    "%matplotlib inline"
   ]
  },
  {
   "cell_type": "code",
   "execution_count": 120,
   "metadata": {},
   "outputs": [],
   "source": [
    "inte = pd.read_csv('csv/inte.csv')\n",
    "#inte = inte.head(2)"
   ]
  },
  {
   "cell_type": "code",
   "execution_count": 9,
   "metadata": {},
   "outputs": [
    {
     "data": {
      "text/plain": [
       "\"['time', 'go', 'hair', 'icecream', 'break', 'glass', 'grind', 'door.t', 'best', 'place', 'eat', 'want', 'icecream', 'guest']\""
      ]
     },
     "execution_count": 9,
     "metadata": {},
     "output_type": "execute_result"
    }
   ],
   "source": [
    "inte['text'][0]"
   ]
  },
  {
   "cell_type": "code",
   "execution_count": 41,
   "metadata": {},
   "outputs": [],
   "source": [
    "text = \" \".join(review for review in inte['text'][:200])"
   ]
  },
  {
   "cell_type": "code",
   "execution_count": 42,
   "metadata": {},
   "outputs": [
    {
     "data": {
      "text/plain": [
       "70311"
      ]
     },
     "execution_count": 42,
     "metadata": {},
     "output_type": "execute_result"
    }
   ],
   "source": [
    "len(text)"
   ]
  },
  {
   "cell_type": "code",
   "execution_count": 43,
   "metadata": {},
   "outputs": [],
   "source": [
    "text = text.replace('[','')\n",
    "#text = text.replace('\\','')\n",
    "text = text.replace(']','')\n",
    "text = text.replace('\\'','')\n",
    "#text"
   ]
  },
  {
   "cell_type": "code",
   "execution_count": 44,
   "metadata": {},
   "outputs": [
    {
     "data": {
      "text/plain": [
       "2"
      ]
     },
     "execution_count": 44,
     "metadata": {},
     "output_type": "execute_result"
    }
   ],
   "source": [
    "text.count('glass')"
   ]
  },
  {
   "cell_type": "code",
   "execution_count": 49,
   "metadata": {},
   "outputs": [],
   "source": [
    "wordcloud = WordCloud(max_words=200, background_color=\"white\",width=500, height=400).generate(text)"
   ]
  },
  {
   "cell_type": "code",
   "execution_count": 50,
   "metadata": {},
   "outputs": [
    {
     "data": {
      "image/png": "[encoded data removed]",
      "text/plain": [
       "<Figure size 432x288 with 1 Axes>"
      ]
     },
     "metadata": {
      "needs_background": "light"
     },
     "output_type": "display_data"
    }
   ],
   "source": [
    "plt.imshow(wordcloud, interpolation='bilinear')\n",
    "plt.axis(\"off\")\n",
    "plt.show()"
   ]
  },
  {
   "cell_type": "code",
   "execution_count": 190,
   "metadata": {},
   "outputs": [
    {
     "data": {
      "text/plain": [
       "<wordcloud.wordcloud.WordCloud at 0x227ba737da0>"
      ]
     },
     "execution_count": 190,
     "metadata": {},
     "output_type": "execute_result"
    }
   ],
   "source": [
    "wordcloud.to_file(\"image/first_review.png\")"
   ]
  },
  {
   "cell_type": "code",
   "execution_count": 155,
   "metadata": {},
   "outputs": [
    {
     "data": {
      "text/plain": [
       "'gelato'"
      ]
     },
     "execution_count": 155,
     "metadata": {},
     "output_type": "execute_result"
    }
   ],
   "source": [
    "word_count.columns[30]"
   ]
  },
  {
   "cell_type": "code",
   "execution_count": 177,
   "metadata": {},
   "outputs": [
    {
     "data": {
      "text/html": [
       "<div>\n",
       "<style scoped>\n",
       "    .dataframe tbody tr th:only-of-type {\n",
       "        vertical-align: middle;\n",
       "    }\n",
       "\n",
       "    .dataframe tbody tr th {\n",
       "        vertical-align: top;\n",
       "    }\n",
       "\n",
       "    .dataframe thead th {\n",
       "        text-align: right;\n",
       "    }\n",
       "</style>\n",
       "<table border=\"1\" class=\"dataframe\">\n",
       "  <thead>\n",
       "    <tr style=\"text-align: right;\">\n",
       "      <th></th>\n",
       "      <th>Unnamed: 0</th>\n",
       "      <th>address</th>\n",
       "      <th>attributes</th>\n",
       "      <th>business_id</th>\n",
       "      <th>categories</th>\n",
       "      <th>city</th>\n",
       "      <th>hours</th>\n",
       "      <th>is_open</th>\n",
       "      <th>latitude</th>\n",
       "      <th>longitude</th>\n",
       "      <th>...</th>\n",
       "      <th>review_count</th>\n",
       "      <th>state</th>\n",
       "      <th>review_id</th>\n",
       "      <th>user_id</th>\n",
       "      <th>stars</th>\n",
       "      <th>useful</th>\n",
       "      <th>funny</th>\n",
       "      <th>cool</th>\n",
       "      <th>text</th>\n",
       "      <th>date</th>\n",
       "    </tr>\n",
       "  </thead>\n",
       "  <tbody>\n",
       "    <tr>\n",
       "      <th>16628</th>\n",
       "      <td>16628</td>\n",
       "      <td>8 York St</td>\n",
       "      <td>{'RestaurantsPriceRange2': '1'}</td>\n",
       "      <td>d4qoXn1Rqt47LLTDA3bAwQ</td>\n",
       "      <td>Food, Ice Cream &amp; Frozen Yogurt</td>\n",
       "      <td>Bath</td>\n",
       "      <td>NaN</td>\n",
       "      <td>1</td>\n",
       "      <td>43.640646</td>\n",
       "      <td>-79.380939</td>\n",
       "      <td>...</td>\n",
       "      <td>4</td>\n",
       "      <td>BAS</td>\n",
       "      <td>Yyh6HRuWjM2eah3TKjcM_w</td>\n",
       "      <td>OapLWhQI4_Gm32-nYbHmUA</td>\n",
       "      <td>4.0</td>\n",
       "      <td>9</td>\n",
       "      <td>4</td>\n",
       "      <td>7</td>\n",
       "      <td>My mum loves ice cream. I'm really looking for...</td>\n",
       "      <td>2010-05-15 21:36:14</td>\n",
       "    </tr>\n",
       "    <tr>\n",
       "      <th>16629</th>\n",
       "      <td>16629</td>\n",
       "      <td>8 York St</td>\n",
       "      <td>{'RestaurantsPriceRange2': '1'}</td>\n",
       "      <td>d4qoXn1Rqt47LLTDA3bAwQ</td>\n",
       "      <td>Food, Ice Cream &amp; Frozen Yogurt</td>\n",
       "      <td>Bath</td>\n",
       "      <td>NaN</td>\n",
       "      <td>1</td>\n",
       "      <td>43.640646</td>\n",
       "      <td>-79.380939</td>\n",
       "      <td>...</td>\n",
       "      <td>4</td>\n",
       "      <td>BAS</td>\n",
       "      <td>aQbfTvciXAX8JaWcvOjJPA</td>\n",
       "      <td>QjQND4xv6saxKL8eg7hfCA</td>\n",
       "      <td>4.0</td>\n",
       "      <td>3</td>\n",
       "      <td>0</td>\n",
       "      <td>0</td>\n",
       "      <td>Nice pit stop for ice cream while walking arou...</td>\n",
       "      <td>2018-05-05 03:27:29</td>\n",
       "    </tr>\n",
       "    <tr>\n",
       "      <th>16630</th>\n",
       "      <td>16630</td>\n",
       "      <td>8 York St</td>\n",
       "      <td>{'RestaurantsPriceRange2': '1'}</td>\n",
       "      <td>d4qoXn1Rqt47LLTDA3bAwQ</td>\n",
       "      <td>Food, Ice Cream &amp; Frozen Yogurt</td>\n",
       "      <td>Bath</td>\n",
       "      <td>NaN</td>\n",
       "      <td>1</td>\n",
       "      <td>43.640646</td>\n",
       "      <td>-79.380939</td>\n",
       "      <td>...</td>\n",
       "      <td>4</td>\n",
       "      <td>BAS</td>\n",
       "      <td>ihcAUuViR56Cwda5nDmX7A</td>\n",
       "      <td>NqOzFIRhO-v3RWjGhAEViA</td>\n",
       "      <td>4.0</td>\n",
       "      <td>0</td>\n",
       "      <td>0</td>\n",
       "      <td>0</td>\n",
       "      <td>This ice cream shop was just across the street...</td>\n",
       "      <td>2018-01-06 20:42:59</td>\n",
       "    </tr>\n",
       "    <tr>\n",
       "      <th>16631</th>\n",
       "      <td>16631</td>\n",
       "      <td>8 York St</td>\n",
       "      <td>{'RestaurantsPriceRange2': '1'}</td>\n",
       "      <td>d4qoXn1Rqt47LLTDA3bAwQ</td>\n",
       "      <td>Food, Ice Cream &amp; Frozen Yogurt</td>\n",
       "      <td>Bath</td>\n",
       "      <td>NaN</td>\n",
       "      <td>1</td>\n",
       "      <td>43.640646</td>\n",
       "      <td>-79.380939</td>\n",
       "      <td>...</td>\n",
       "      <td>4</td>\n",
       "      <td>BAS</td>\n",
       "      <td>FlGtVB_HI-AJ9C3xuGB0PQ</td>\n",
       "      <td>4TJF62R5ytolOmiMWKtjGA</td>\n",
       "      <td>3.0</td>\n",
       "      <td>0</td>\n",
       "      <td>0</td>\n",
       "      <td>0</td>\n",
       "      <td>Lovely cold treat to enjoy while walking down ...</td>\n",
       "      <td>2010-11-01 20:29:21</td>\n",
       "    </tr>\n",
       "  </tbody>\n",
       "</table>\n",
       "<p>4 rows × 22 columns</p>\n",
       "</div>"
      ],
      "text/plain": [
       "       Unnamed: 0    address                       attributes  \\\n",
       "16628       16628  8 York St  {'RestaurantsPriceRange2': '1'}   \n",
       "16629       16629  8 York St  {'RestaurantsPriceRange2': '1'}   \n",
       "16630       16630  8 York St  {'RestaurantsPriceRange2': '1'}   \n",
       "16631       16631  8 York St  {'RestaurantsPriceRange2': '1'}   \n",
       "\n",
       "                  business_id                       categories  city hours  \\\n",
       "16628  d4qoXn1Rqt47LLTDA3bAwQ  Food, Ice Cream & Frozen Yogurt  Bath   NaN   \n",
       "16629  d4qoXn1Rqt47LLTDA3bAwQ  Food, Ice Cream & Frozen Yogurt  Bath   NaN   \n",
       "16630  d4qoXn1Rqt47LLTDA3bAwQ  Food, Ice Cream & Frozen Yogurt  Bath   NaN   \n",
       "16631  d4qoXn1Rqt47LLTDA3bAwQ  Food, Ice Cream & Frozen Yogurt  Bath   NaN   \n",
       "\n",
       "       is_open   latitude  longitude  ... review_count state  \\\n",
       "16628        1  43.640646 -79.380939  ...            4   BAS   \n",
       "16629        1  43.640646 -79.380939  ...            4   BAS   \n",
       "16630        1  43.640646 -79.380939  ...            4   BAS   \n",
       "16631        1  43.640646 -79.380939  ...            4   BAS   \n",
       "\n",
       "                    review_id                 user_id stars useful  funny  \\\n",
       "16628  Yyh6HRuWjM2eah3TKjcM_w  OapLWhQI4_Gm32-nYbHmUA   4.0      9      4   \n",
       "16629  aQbfTvciXAX8JaWcvOjJPA  QjQND4xv6saxKL8eg7hfCA   4.0      3      0   \n",
       "16630  ihcAUuViR56Cwda5nDmX7A  NqOzFIRhO-v3RWjGhAEViA   4.0      0      0   \n",
       "16631  FlGtVB_HI-AJ9C3xuGB0PQ  4TJF62R5ytolOmiMWKtjGA   3.0      0      0   \n",
       "\n",
       "       cool                                               text  \\\n",
       "16628     7  My mum loves ice cream. I'm really looking for...   \n",
       "16629     0  Nice pit stop for ice cream while walking arou...   \n",
       "16630     0  This ice cream shop was just across the street...   \n",
       "16631     0  Lovely cold treat to enjoy while walking down ...   \n",
       "\n",
       "                      date  \n",
       "16628  2010-05-15 21:36:14  \n",
       "16629  2018-05-05 03:27:29  \n",
       "16630  2018-01-06 20:42:59  \n",
       "16631  2010-11-01 20:29:21  \n",
       "\n",
       "[4 rows x 22 columns]"
      ]
     },
     "execution_count": 177,
     "metadata": {},
     "output_type": "execute_result"
    }
   ],
   "source": [
    "merge[merge['state'] == 'BAS']"
   ]
  },
  {
   "cell_type": "code",
   "execution_count": 176,
   "metadata": {},
   "outputs": [
    {
     "data": {
      "text/plain": [
       "\"My mum loves ice cream. I'm really looking forward to taking her to Italy at the end of this month and seeing her face of delight when she sees all the gelato.\\n\\nCouple this with the first sunny weekend in England since my parents arrived in the UK on holiday and I knew that I had to get her an ice cream.\\n\\nWe eschewed Ben and Jerrys and went in search of some more local fare. David Thayer source their ice cream from 3 local businesses, the furthest away being an hour's drive. It's always nice to support the local economy.\\n\\nBetween us, we tried 6 flavours. Mum and dad loved their chocolate brownie while my mango sorbet and lime cheesecake flavours were very distinctive and enjoyable.\\n\\nWell worth a visit\""
      ]
     },
     "execution_count": 176,
     "metadata": {},
     "output_type": "execute_result"
    }
   ],
   "source": [
    "merge[merge['state'] == 'BAS'].loc[16628,['text']][0]"
   ]
  },
  {
   "cell_type": "code",
   "execution_count": 188,
   "metadata": {},
   "outputs": [
    {
     "data": {
      "text/plain": [
       "'Nice pit stop for ice cream while walking around the abbey courtyard. It was a lovely evening for a little treat. This ice cream shop had a great selection from fruity to the classics. The server was patient in answering our questions and need to sample a few flavors before making a selection. There is a cute sigh outside for a great photo op. This is cash only and no bills larger than 50 so keep in mind if you step in for a treat.'"
      ]
     },
     "execution_count": 188,
     "metadata": {},
     "output_type": "execute_result"
    }
   ],
   "source": [
    "merge[merge['state'] == 'BAS'].loc[16629,['text']][0]"
   ]
  },
  {
   "cell_type": "code",
   "execution_count": null,
   "metadata": {},
   "outputs": [],
   "source": [
    "merge[merge['state'] == 'BAS'].loc[16628,['text']][0]"
   ]
  },
  {
   "cell_type": "code",
   "execution_count": null,
   "metadata": {},
   "outputs": [],
   "source": [
    "merge[merge['state'] == 'BAS'].loc[16628,['text']][0]"
   ]
  },
  {
   "cell_type": "code",
   "execution_count": 178,
   "metadata": {},
   "outputs": [
    {
     "data": {
      "text/plain": [
       "Index(['Unnamed: 0', 'address', 'attributes', 'business_id', 'categories',\n",
       "       'city', 'hours', 'is_open', 'latitude', 'longitude', 'name',\n",
       "       'postal_code', 'review_count', 'state', 'review_id', 'user_id', 'stars',\n",
       "       'useful', 'funny', 'cool', 'text', 'date'],\n",
       "      dtype='object')"
      ]
     },
     "execution_count": 178,
     "metadata": {},
     "output_type": "execute_result"
    }
   ],
   "source": [
    "merge.columns"
   ]
  },
  {
   "cell_type": "code",
   "execution_count": 181,
   "metadata": {},
   "outputs": [
    {
     "data": {
      "text/plain": [
       "Index(['Unnamed: 0', 'address', 'attributes', 'business_id', 'categories',\n",
       "       'city', 'hours', 'is_open', 'latitude', 'longitude', 'name',\n",
       "       'postal_code', 'review_count', 'state', 'review_id', 'user_id', 'stars',\n",
       "       'useful', 'funny', 'cool', 'text', 'date'],\n",
       "      dtype='object')"
      ]
     },
     "execution_count": 181,
     "metadata": {},
     "output_type": "execute_result"
    }
   ],
   "source": [
    "merge.columns"
   ]
  },
  {
   "cell_type": "code",
   "execution_count": null,
   "metadata": {},
   "outputs": [],
   "source": []
  }
 ],
 "metadata": {
  "kernelspec": {
   "display_name": "Python 3",
   "language": "python",
   "name": "python3"
  },
  "language_info": {
   "codemirror_mode": {
    "name": "ipython",
    "version": 3
   },
   "file_extension": ".py",
   "mimetype": "text/x-python",
   "name": "python",
   "nbconvert_exporter": "python",
   "pygments_lexer": "ipython3",
   "version": "3.6.8"
  }
 },
 "nbformat": 4,
 "nbformat_minor": 2
}
