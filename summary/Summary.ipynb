{
 "cells": [
  {
   "cell_type": "markdown",
   "metadata": {
    "colab_type": "text",
    "id": "PdjPN1pCbXro"
   },
   "source": [
    "## Introduction and Background"
   ]
  },
  {
   "cell_type": "markdown",
   "metadata": {
    "colab_type": "text",
    "id": "pyzMk2idbX0b"
   },
   "source": [
    "“Yelp connects people with great local businesses.” It is of great convenience for people to obtain information from the YELP app as well as share their own experience. An increasing number of business owners begin to use Yelp as an efficient feedback mechanism to achieve greater success. \n",
    "\n",
    "In this project, we mainly focus on the businesses whose categories contain ice-cream. The optimal goal for this project is to give some specific advice to those ice-cream business owners.\n"
   ]
  },
  {
   "cell_type": "markdown",
   "metadata": {
    "colab_type": "text",
    "id": "GqSnydGKbX6E"
   },
   "source": [
    "## Motivation and Statement"
   ]
  },
  {
   "cell_type": "markdown",
   "metadata": {
    "colab_type": "text",
    "id": "h_jcEbUmbYCP"
   },
   "source": [
    "Our motivations in choosing models for this project basically come from following two aspects:\n",
    "- **General Recommendation:** General recommendations offered by analysing properties of total businesses were based on the result of Ordered Logit Model.\n",
    "    - **Ordered Logit Model:** The properties about the business are mostly categorical variables especially boolean variables. We thought that the ordered logit model is an idealt one to make such analysis.\n",
    "- **Specific Recommendations:** Specific recommendations offered analysing customers review were based on the predicted score according to LSTM and Chi-square test conducted on word count dataset.\n",
    "    - **Score prediction based on recurrent neural network:** We tried to predict some scores from three perspective: **flavor, price, service&environment**. Consider the scores is calculated from user's rating, we try to predict the scores in different aspects based on user's review. Under this situation, the Recurrent Neural Netword especially the LSTM(Long Short-Term Memory) has a well-known performance in text analysis, which drives us to employ this methods as part of our model.\n",
    "    - **Chi-square Test on positive/negative word count:** We conduct the hypothesis test on each combination of business and key word. The hypothesis test with p-value smaller than 0.05 would show siginificant stength or weakness in aspect related to that word."
   ]
  },
  {
   "cell_type": "markdown",
   "metadata": {
    "colab_type": "text",
    "id": "rfWfWoFKBxQ4"
   },
   "source": [
    "## Data Preprocessing"
   ]
  },
  {
   "cell_type": "markdown",
   "metadata": {
    "colab_type": "text",
    "id": "vRg1B_MrBxXX"
   },
   "source": [
    "There are 2764 businesses whose category contains `icecream`. We combined the business information with reviews and obtained a total of 123397 reviews. Our data preprocessing mainly focused on two files: business and review.\n",
    "\n",
    "We conducted text cleaning in following steps for analysis and visualization:\n",
    "- **Stopwords and Special Punctuations Deletion**: \"down\", \"they\", \"their\", \"what\", \"a\", \".\", \"'\", \"[\", \"]\", \"(\", \")\" et al. \n",
    "- **Word Lemmatization**: transform nouns, verbs and adjectives form to its basic form, e.g., *criteria* to *criterion*, *went* to *go*, *better* to *good*.\n",
    "\n",
    "We conducted data cleaning of the business JSON file in the following several steps:\n",
    "- **Variable Transformation**: calculate the average opening hours weekly and transform numerical opening hours to 3 variables: Morning, Afternoon, Evening. Each variable is a categorical variable with 3-level values: True, False, and None.\n",
    "- **Attributes Selection**: selecte the attributes with null values less than 1000: `BusinessAcceptsCreditCards`, `RestaurantsPriceRange2`, `RestaurantsTakeOut`, `BikeParking`, `WiFi`, `BusinessParking`.\n",
    "- **Sub-Attribute Transformation**: transfrom attributes which consists of several sub-attributes into a 3-categorical variable: `TRUE`, `FALSE`, `NONE`.\n"
   ]
  },
  {
   "cell_type": "markdown",
   "metadata": {
    "colab_type": "text",
    "id": "bT4BWrlNEzxy"
   },
   "source": [
    "## General Analysis"
   ]
  },
  {
   "cell_type": "markdown",
   "metadata": {
    "colab_type": "text",
    "id": "Gn4IOx6hbYW6"
   },
   "source": [
    "We conducted the general analysis based on three aspects: flavor, location and rating, by supposing that these three aspects are inner-related. \n",
    "\n",
    "- The **flavor** information extracted from whether it is mentioned in certain review contains: Chocolate, strawberry, vanilla, mango, caramel, banana, coconut and raspberry, information is extracted from whether it is mentioned in certain review. \n",
    "- The **location** extracted from business data contains the states of ice cream business. \n",
    "- The **rating** extracted from review data contains the rating of certain review. \n",
    "\n",
    "We made contingency tables between any of two aspects calculting the count of reviews. We conducted Pearson’s Chi-squared test to check independency. Friedan rank sum test was further conducted in case of the violation of assumption in Chi-squared test.\n",
    "\n",
    "- **Relationship between flavors and ratings:** the Chi-squared test and Friedan rank sum test all showed p-values below 10-e6, concluding the flavors is related to rating on whole data.\n",
    "   \n",
    "- **Relationship between flavors and locations:** the Chi-squared test and Friedan rank sum test all showed p-values below 10-e13, concluding the flavors is related to the belonging states of ice cream shop.\n",
    "\n",
    "- **Relationship between locations and ratings:** the Chi-squared test and Friedan rank sum test all showed p-values below 10-e8, concluding the states of ice cream shop is related to rating on whole data.\n"
   ]
  },
  {
   "cell_type": "markdown",
   "metadata": {
    "colab_type": "text",
    "id": "S8bn--CibYUh"
   },
   "source": [
    "## Main model"
   ]
  },
  {
   "cell_type": "markdown",
   "metadata": {
    "colab_type": "text",
    "id": "QidaJ_rfbYS1"
   },
   "source": [
    "We constructed different models for two purposes mentioned before. We applied **ordered logit model** on business data to gave advice on all business regardless of review. We applied **Recurrent neural network** and **Chi-square test** to raw review text to gave advice on certain business."
   ]
  },
  {
   "cell_type": "markdown",
   "metadata": {
    "colab_type": "text",
    "id": "pV8TuLzlbYLQ"
   },
   "source": [
    "### General Recommendations"
   ]
  },
  {
   "cell_type": "markdown",
   "metadata": {},
   "source": [
    "#### Ordered Logit Model"
   ]
  },
  {
   "cell_type": "markdown",
   "metadata": {
    "colab_type": "text",
    "id": "JgvOhum2bYJf"
   },
   "source": [
    "We applied the Ordered Logit Model on business data. We treated stars from 0.5 to 5 as responses, while other attributes as predictors including opening hours(morning/ afternoon/ evening), whether the restaurant accepts credit cards, price range, whether the restaurant accepts take out, WiFi, whether the restaurant offers parking space for bikes and cars."
   ]
  },
  {
   "cell_type": "markdown",
   "metadata": {
    "colab_type": "text",
    "id": "8zsFghO6bYHz"
   },
   "source": [
    "$$\n",
    "\\operatorname{logit}[P(Y \\leq j)]=\\alpha_{j}-\\beta X, j=1, \\ldots, J-1\n",
    "$$"
   ]
  },
  {
   "cell_type": "markdown",
   "metadata": {
    "colab_type": "text",
    "id": "Dut66Ws0bX_y"
   },
   "source": [
    "On the right side of the equal sign, we see a simple linear model with one slope,  $\\beta$, and an intercept $\\alpha_j$ that changes depending on j. Here the j is the level of an ordered category with J levels. In our case, j = 1 stands for 0.5 stars. So we see we have a different intercept depending on the level of interest. In our example,  $P(Y\\leq 8)$  means the probability of below 4 being 4 or above. Thus we’re using the levels as boundaries. "
   ]
  },
  {
   "cell_type": "markdown",
   "metadata": {
    "colab_type": "text",
    "id": "qXjGytQ2gRzu"
   },
   "source": [
    "![alt text](ordered_logit.png \"predicted rating\")"
   ]
  },
  {
   "cell_type": "markdown",
   "metadata": {
    "colab_type": "text",
    "id": "kRXPI76ebX9Y"
   },
   "source": [
    "|Variables | MorningTrue | AfternoonTrue | EveningTrue | AcceptCreditCardFalse | PriceRange2 | TakeOutFlase | BikeParkingFlase | WifiFree | WifiNo | Parking\n",
    "|------|------|------|------|------|------|------|------|------|------|------|\n",
    "| Coefficient |-0.7105 | 1.5347 | -0.6939 | 1.0513 | -0.3242 | 0.9857 | -0.1150 | 0.6148 | -0.0722 | -0.2246 |\n",
    "|Standard Error | 0.1117 | 0.2715 | 0.2469 | 0.2939 | 0.1170 | 0.2434 | 0.1377 | 0.6161 | 0.6132 | 0.1116 |"
   ]
  },
  {
   "cell_type": "markdown",
   "metadata": {
    "colab_type": "text",
    "id": "43pOx9H4bX4S"
   },
   "source": [
    "This image shows the general businesses and their predicted ratings. We came up with the recommendations to ice cream shops. \n",
    "- Ensure the opening hours contains afternoon. \n",
    "- Provide free WiFi.\n",
    "- Provide parking lots.\n",
    "All these procedures prompt ratings to business."
   ]
  },
  {
   "cell_type": "markdown",
   "metadata": {},
   "source": [
    "### Specific Recommendations"
   ]
  },
  {
   "cell_type": "markdown",
   "metadata": {
    "colab_type": "text",
    "id": "Dwe18o_9bXyB"
   },
   "source": [
    "#### Recurrent neural network"
   ]
  },
  {
   "cell_type": "markdown",
   "metadata": {
    "colab_type": "text",
    "id": "5bquCUdpbXvg"
   },
   "source": [
    "We first conducted word embedding using Global Vectors for Word Representation(GloVe). Then we constructed our model. We used Long Short-Term Memory(LSTM) combined with Bidirectional RNN. We added two hidden layers with 128 nodes in each layer. The following diagram shows the basic cell of LSTM(image source: https://colah.github.io/posts/2015-08-Understanding-LSTMs/)."
   ]
  },
  {
   "cell_type": "markdown",
   "metadata": {
    "colab_type": "text",
    "id": "0CmMNEAVgs3Q"
   },
   "source": [
    "![alt text](LSTM.png \"predicted rating\")"
   ]
  },
  {
   "cell_type": "markdown",
   "metadata": {
    "colab_type": "text",
    "id": "1b7fL483PfC-"
   },
   "source": [
    "We used the following procedure to give business owners several suggestions based on LSTM model, given reviews for a certain business:\n",
    "- Break all the reviews into subsentences.\n",
    "- Divide all subsentences into 3 categories: **food**, **price**, **service and environment**. For each category, the keywords are the same as those mentioned in word count interpretation.\n",
    "- Predict outcome on certain category by feeding the fitted RNN model with subsentences related to this category."
   ]
  },
  {
   "cell_type": "markdown",
   "metadata": {
    "colab_type": "text",
    "id": "KhzxwwUIPidS"
   },
   "source": [
    "Here is one example of advice we make to the ice cream shop **So Cool Frozen Yogurt**, for more results, please refer to our shiny app."
   ]
  },
  {
   "cell_type": "markdown",
   "metadata": {
    "colab_type": "text",
    "id": "LA7pxTY8gjsF"
   },
   "source": [
    "![alt text](res.png \"predicted rating\")"
   ]
  },
  {
   "cell_type": "markdown",
   "metadata": {},
   "source": [
    "#### Interpretation from word counts"
   ]
  },
  {
   "cell_type": "markdown",
   "metadata": {},
   "source": [
    "We conducted a deep analysis to explore the specific aspects in which we may offer recommendations to the business owners. Intuitively, if a certain word is placed more closely with a positive word, we may think the review reflects a positive attitude towards this word. Therefore, we do following several steps to specify our result.\n",
    "\n",
    "- Select the most frequently appeared words (especially nouns) in the word-count dataset. The selected words are shown below:\n",
    "   - **Food**: taste, flavour, topping, Chocolate, strawberry, vanilla, mango, caramel, banana, coconut, raspberry.\n",
    "   - **Price**: price, combo, charge.\n",
    "   - **Service and Environment:** service, cashier, customer, owner, seat, table, employee, location, manager, drive, park, room, experience, atmosphere, street, staff, space, machine, decor.\n",
    "- Find the appearance number of nearest positive words or negative words based on the data set [1-2]. By specifying the nearest positive/negative words towards our target words, for each target words we counted the total number and recorded it. We also performed the same counting methods within each business's review. \n",
    "\n",
    "- Conduct the Chi-square test on 2$\\times$2 contingency table as it shown in the following table, which consists of positive and negative words counts for total reviews and a certain business.\n",
    "\n",
    "|Key Word | # of Positive | # of Negative   |\n",
    "|------|------|------|\n",
    "|chocolate in Business I|   34  | 12 |\n",
    "|Chocolate in total Reviews|   19629  | 8869 |\n",
    "\n",
    "- Based on the p-values (p-value$<$0.05) and the positive/negative proportion, point out several specific areas to business owners that need to be improved. If the p-values is below the significance level, we think the attitude towards this word in certain business is different from that in general case. Then if the proportion of negative count is greader, we may think the business owner need to improve the shop in this aspect."
   ]
  },
  {
   "cell_type": "markdown",
   "metadata": {
    "colab_type": "text",
    "id": "n0PjAoSdusYb"
   },
   "source": [
    "## Strengthes and Weakness"
   ]
  },
  {
   "cell_type": "markdown",
   "metadata": {
    "colab_type": "text",
    "id": "06cZ5ce8uvxX"
   },
   "source": [
    "### Strengths\n",
    "- We conducted evaluations based on three aspects of each business, which offers more comprehensive feedback to business owners.\n",
    "- We evaluated the contribution of facilities and opening hours towards rating in business shops in order to offer recommendations from a different perspective.\n",
    "- We roughly tested the attitude in reviews based on the word count related to adjective words. The result can demonstrate the weakness in a relatively specific aspect to business owners.\n",
    "\n",
    "\n",
    "### Weakness\n",
    "- The score predicting methods in different aspects of the business shop may lack certain exactitude due to some overfitting problems.\n",
    "\n",
    "- The result of ordered logit model reflects certain information which consistents to our common sense. However, the coefficients of certain features contradicted to our essential sense. \n",
    "\n",
    "- The chi-square test on word counts dataset may be weak since the attitude is more complex than just a counting number related to adjective words. Except for the relationship between attitude and counting numbers, there may exist some business shop who have relatively fewer reviews, therefore it is hard to conduct the hypothesis test on 2$\\times$2 matrices with zeros exist."
   ]
  },
  {
   "cell_type": "markdown",
   "metadata": {
    "colab_type": "text",
    "id": "LUaak2qectBY"
   },
   "source": [
    "## Conclusion"
   ]
  },
  {
   "cell_type": "markdown",
   "metadata": {
    "colab_type": "text",
    "id": "ZJHMhhtectOQ"
   },
   "source": [
    "We achieved our ultimate goal of making recommendations to the business owner in two aspects.\n",
    "- We proposed several hypotheses on business and validated them.\n",
    "- We made general recommendations to all business owners like: provide chocolate flavor, ensure opening hours contain afternoon, provide free WiFi, and provide parking lots.\n",
    "- We also made recommendations to certain business owners regard specific aspect **food**, **price**, **service and environment** based on predicted ratings.\n",
    "\n",
    "We came up with two models, **Ordered Logit Model** and **Recurrent Neural Network**. \n",
    "- The **Ordered Logit Model** had nice interpretation on all business owners. \n",
    "- The **Recurrent Neural Network** had reasonable accuracy while lacking interpretations. We can make recommendations based on new predictions."
   ]
  },
  {
   "cell_type": "markdown",
   "metadata": {
    "colab_type": "text",
    "id": "BXHz3Dmg67kc"
   },
   "source": [
    "## Reference"
   ]
  },
  {
   "cell_type": "markdown",
   "metadata": {
    "colab_type": "text",
    "id": "mkwu_LZb7AjY"
   },
   "source": [
    "[1]Minqing Hu and Bing Liu. \"Mining and Summarizing Customer Reviews.\" \n",
    "       Proceedings of the ACM SIGKDD International Conference on Knowledge \n",
    "       Discovery and Data Mining (KDD-2004), Aug 22-25, 2004, Seattle, \n",
    "       Washington, USA.\n",
    "\n",
    "[2]Bing Liu, Minqing Hu and Junsheng Cheng. \"Opinion Observer: Analyzing \n",
    "       and Comparing Opinions on the Web.\" Proceedings of the 14th \n",
    "       International World Wide Web conference (WWW-2005), May 10-14, \n",
    "       2005, Chiba, Japan."
   ]
  },
  {
   "cell_type": "markdown",
   "metadata": {
    "colab": {},
    "colab_type": "code",
    "id": "1iFLp0XW6-J1"
   },
   "source": [
    "## Contribution"
   ]
  },
  {
   "cell_type": "markdown",
   "metadata": {},
   "source": [
    "Zhuoyan Xu: data preprocessing on reviews, construct LSTM model and Ordered Logit Model.\n",
    "\n",
    "Rita Wu: data preprocessing on attributes, Chi-square test based on word count.\n",
    "\n",
    "Chenghui Li: Shiny App."
   ]
  }
 ],
 "metadata": {
  "colab": {
   "collapsed_sections": [],
   "name": "Summary.ipynb",
   "provenance": []
  },
  "kernelspec": {
   "display_name": "Python 3",
   "language": "python",
   "name": "python3"
  },
  "language_info": {
   "codemirror_mode": {
    "name": "ipython",
    "version": 3
   },
   "file_extension": ".py",
   "mimetype": "text/x-python",
   "name": "python",
   "nbconvert_exporter": "python",
   "pygments_lexer": "ipython3",
   "version": "3.7.3"
  }
 },
 "nbformat": 4,
 "nbformat_minor": 1
}
